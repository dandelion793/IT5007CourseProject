{
  "nbformat": 4,
  "nbformat_minor": 0,
  "metadata": {
    "colab": {
      "name": "MLDNA5.ipynb",
      "provenance": [],
      "collapsed_sections": []
    },
    "kernelspec": {
      "name": "python3",
      "display_name": "Python 3"
    },
    "language_info": {
      "name": "python"
    }
  },
  "cells": [
    {
      "cell_type": "code",
      "execution_count": 59,
      "metadata": {
        "colab": {
          "base_uri": "https://localhost:8080/"
        },
        "id": "vVn4kRW8pMyj",
        "outputId": "e3e4207d-f5ad-4491-9b87-fbe419d36946"
      },
      "outputs": [
        {
          "output_type": "stream",
          "name": "stdout",
          "text": [
            "Requirement already satisfied: umap-learn in /usr/local/lib/python3.7/dist-packages (0.5.2)\n",
            "Requirement already satisfied: tqdm in /usr/local/lib/python3.7/dist-packages (from umap-learn) (4.63.0)\n",
            "Requirement already satisfied: numba>=0.49 in /usr/local/lib/python3.7/dist-packages (from umap-learn) (0.51.2)\n",
            "Requirement already satisfied: scipy>=1.0 in /usr/local/lib/python3.7/dist-packages (from umap-learn) (1.4.1)\n",
            "Requirement already satisfied: pynndescent>=0.5 in /usr/local/lib/python3.7/dist-packages (from umap-learn) (0.5.6)\n",
            "Requirement already satisfied: numpy>=1.17 in /usr/local/lib/python3.7/dist-packages (from umap-learn) (1.21.5)\n",
            "Requirement already satisfied: scikit-learn>=0.22 in /usr/local/lib/python3.7/dist-packages (from umap-learn) (1.0.2)\n",
            "Requirement already satisfied: llvmlite<0.35,>=0.34.0.dev0 in /usr/local/lib/python3.7/dist-packages (from numba>=0.49->umap-learn) (0.34.0)\n",
            "Requirement already satisfied: setuptools in /usr/local/lib/python3.7/dist-packages (from numba>=0.49->umap-learn) (57.4.0)\n",
            "Requirement already satisfied: joblib>=0.11 in /usr/local/lib/python3.7/dist-packages (from pynndescent>=0.5->umap-learn) (1.1.0)\n",
            "Requirement already satisfied: threadpoolctl>=2.0.0 in /usr/local/lib/python3.7/dist-packages (from scikit-learn>=0.22->umap-learn) (3.1.0)\n"
          ]
        }
      ],
      "source": [
        "pip install umap-learn"
      ]
    },
    {
      "cell_type": "code",
      "source": [
        "import umap\n",
        "import sklearn\n",
        "import pandas as pd\n",
        "from scipy.spatial import distance_matrix\n",
        "from numpy import unique\n",
        "from numpy import where\n",
        "from sklearn.datasets import make_classification\n",
        "from sklearn.mixture import GaussianMixture\n",
        "from sklearn.cluster import SpectralClustering\n",
        "from sklearn.cluster import AffinityPropagation\n",
        "from sklearn.cluster import AgglomerativeClustering\n",
        "from sklearn.cluster import Birch\n",
        "from sklearn.cluster import MiniBatchKMeans\n",
        "from sklearn.cluster import MeanShift\n",
        "from sklearn.cluster import OPTICS\n",
        "from sklearn.cluster import SpectralClustering\n",
        "from matplotlib import pyplot"
      ],
      "metadata": {
        "id": "wA-fOyJ1pfar"
      },
      "execution_count": 60,
      "outputs": []
    },
    {
      "cell_type": "code",
      "source": [
        "#p=pd.read_csv('/content/input.csv')\n"
      ],
      "metadata": {
        "id": "wrLGoA4zsVDB"
      },
      "execution_count": null,
      "outputs": []
    },
    {
      "cell_type": "code",
      "source": [
        "centers=pd.read_csv('/content/centers.csv')\n",
        "centers=centers.drop(columns=['Unnamed: 0'])\n",
        "centers"
      ],
      "metadata": {
        "id": "Wky5pXcOv-Ju"
      },
      "execution_count": null,
      "outputs": []
    },
    {
      "cell_type": "code",
      "source": [
        "dfadnalineages=pd.read_csv(\"/content/adnalineages.csv\")\n",
        "#dfadnalineages"
      ],
      "metadata": {
        "id": "J03K-IP9pfhd"
      },
      "execution_count": 61,
      "outputs": []
    },
    {
      "cell_type": "code",
      "source": [
        "dfcurrent=pd.read_csv(\"/content/G25_Current_DNA.csv\")\n",
        "Xcurrent=dfcurrent.drop(columns=['DNA sample ethnicity and id','DNA sample ethnicity','sample id'])"
      ],
      "metadata": {
        "id": "iEHo19ZlplAI"
      },
      "execution_count": 62,
      "outputs": []
    },
    {
      "cell_type": "code",
      "source": [
        "dfancient=pd.read_csv(\"/content/G25_Ancient_DNA.csv\")\n",
        "Xancient=dfancient.drop(columns=['DNA sample ethnicity and id','DNA sample ethnicity','sample id'])\n",
        "#Xcurrent"
      ],
      "metadata": {
        "id": "wueZ4hoHqwXT"
      },
      "execution_count": 63,
      "outputs": []
    },
    {
      "cell_type": "code",
      "source": [
        "dfsubcon=pd.read_csv(\"/content/subcontinentg25.csv\")\n",
        "Xsubcon=dfsubcon.drop(columns=['DNA sample ethnicity and id'])\n",
        "Xsubcon=Xsubcon.drop(columns=['Unnamed: 26','Unnamed: 27'])"
      ],
      "metadata": {
        "id": "iJEmb9NmplGe"
      },
      "execution_count": 65,
      "outputs": []
    },
    {
      "cell_type": "code",
      "source": [
        "frames = [dfcurrent, dfancient]\n",
        "dfcombined = pd.concat(frames)\n",
        "Xcombined=dfcombined.drop(columns=['DNA sample ethnicity and id'])\n",
        "#dfcombined"
      ],
      "metadata": {
        "id": "u86Cq4ZOqEL5"
      },
      "execution_count": 9,
      "outputs": []
    },
    {
      "cell_type": "markdown",
      "source": [
        "Ancient Lineage Tool"
      ],
      "metadata": {
        "id": "4SprPqhkCay8"
      }
    },
    {
      "cell_type": "code",
      "source": [
        "dfancientpcadna = pd.merge(dfadnalineages,dfancient)\n",
        "dfancientpcadna"
      ],
      "metadata": {
        "id": "vfFd9K7SX15k",
        "colab": {
          "base_uri": "https://localhost:8080/",
          "height": 765
        },
        "outputId": "befe5361-9f42-4d5c-d822-bac0e8d79cc5"
      },
      "execution_count": 34,
      "outputs": [
        {
          "output_type": "execute_result",
          "data": {
            "text/plain": [
              "     sample id Haplogroup 2 Assigned Mutation  Death         Country  \\\n",
              "0        I1781            T            T-M184   3841    Turkmenistan   \n",
              "1        I2085            E          E1b-M215   3899    Turkmenistan   \n",
              "2        I2927            J            J-M304   4413            Iran   \n",
              "3        I4246            E           E1b-M35   4202           Spain   \n",
              "4        I7207            R          R1a-M420   4400  Czech Republic   \n",
              "...        ...          ...               ...    ...             ...   \n",
              "1076    HYR002            E          E1b-M293   2300           Kenya   \n",
              "1077    MOL001            E          E1b-M293   1500           Kenya   \n",
              "1078    TAU001            E            E1b-M2   1100        Botswana   \n",
              "1079    XAR001            E           E1b-V38   1400        Botswana   \n",
              "1080    XAR002            E          E1b-M293   1400        Botswana   \n",
              "\n",
              "     Earth Sciences              Region  DNA sample ethnicity and id  \\\n",
              "0             MIS 1        Central Asia          TKM_Gonur1_BA:I1781   \n",
              "1             MIS 1        Central Asia          TKM_Gonur1_BA:I2085   \n",
              "2             MIS 1         Middle East      IRN_Tepe_Hissar_C:I2927   \n",
              "3             MIS 1      Western Europe  Iberia_Central_CA_Afr:I4246   \n",
              "4             MIS 1      Eastern Europe   Corded_Ware_CZE_late:I7207   \n",
              "...             ...                 ...                          ...   \n",
              "1076          MIS 1  Sub-Saharan Africa  KEN_HyraxHill_2300BP:HYR002   \n",
              "1077          MIS 1  Sub-Saharan Africa   KEN_MoloCave_1500BP:MOL001   \n",
              "1078          MIS 1  Sub-Saharan Africa    BWA_Taukome_1100BP:TAU001   \n",
              "1079          MIS 1  Sub-Saharan Africa       BWA_Xaro_1400BP:XAR001   \n",
              "1080          MIS 1  Sub-Saharan Africa       BWA_Xaro_1400BP:XAR002   \n",
              "\n",
              "       DNA sample ethnicity         1  ...        16        17        18  \\\n",
              "0             TKM_Gonur1_BA  0.076261  ...  0.012729 -0.022817 -0.002534   \n",
              "1             TKM_Gonur1_BA  0.081953  ...  0.033413  0.011604 -0.005194   \n",
              "2         IRN_Tepe_Hissar_C  0.080814  ...  0.036727  0.001304  0.007981   \n",
              "3     Iberia_Central_CA_Afr -0.051220  ... -0.016309  0.000652 -0.016596   \n",
              "4      Corded_Ware_CZE_late  0.128620  ... -0.001326 -0.003129  0.000760   \n",
              "...                     ...       ...  ...       ...       ...       ...   \n",
              "1076   KEN_HyraxHill_2300BP -0.284558  ... -0.028109  0.006128 -0.007348   \n",
              "1077    KEN_MoloCave_1500BP -0.355128  ... -0.031954  0.017863  0.012542   \n",
              "1078     BWA_Taukome_1100BP -0.648792  ... -0.001458 -0.001173  0.042061   \n",
              "1079        BWA_Xaro_1400BP -0.586189  ...  0.001724  0.011474  0.059290   \n",
              "1080        BWA_Xaro_1400BP -0.583913  ...  0.000928  0.003520  0.078420   \n",
              "\n",
              "            19        20        21        22        23        24        25  \n",
              "0     0.006411 -0.037143  0.000125 -0.016693 -0.006409 -0.011809  0.011735  \n",
              "1     0.000126 -0.022386  0.004367 -0.013725  0.011462 -0.015183  0.001916  \n",
              "2     0.006411 -0.024762  0.013851 -0.020155 -0.005423 -0.027594  0.022393  \n",
              "3    -0.033561  0.003001 -0.011729 -0.018548  0.013064 -0.009399  0.005987  \n",
              "4     0.008170  0.003627 -0.001248  0.000618  0.000493  0.008796  0.001197  \n",
              "...        ...       ...       ...       ...       ...       ...       ...  \n",
              "1076  0.000880  0.000375  0.000873 -0.004451 -0.003574  0.004097 -0.009700  \n",
              "1077 -0.002765 -0.004877  0.002246 -0.003586  0.001479 -0.006025 -0.001916  \n",
              "1078 -0.025014 -0.006003 -0.001622 -0.002226  0.001602 -0.000723  0.009819  \n",
              "1079 -0.024008 -0.001876 -0.008360  0.002226  0.000246 -0.000964 -0.003712  \n",
              "1080 -0.026522  0.004377 -0.008859 -0.003710  0.002218  0.001928 -0.002874  \n",
              "\n",
              "[1081 rows x 34 columns]"
            ],
            "text/html": [
              "\n",
              "  <div id=\"df-55939ab2-c165-45d3-a9e1-07fc6859946b\">\n",
              "    <div class=\"colab-df-container\">\n",
              "      <div>\n",
              "<style scoped>\n",
              "    .dataframe tbody tr th:only-of-type {\n",
              "        vertical-align: middle;\n",
              "    }\n",
              "\n",
              "    .dataframe tbody tr th {\n",
              "        vertical-align: top;\n",
              "    }\n",
              "\n",
              "    .dataframe thead th {\n",
              "        text-align: right;\n",
              "    }\n",
              "</style>\n",
              "<table border=\"1\" class=\"dataframe\">\n",
              "  <thead>\n",
              "    <tr style=\"text-align: right;\">\n",
              "      <th></th>\n",
              "      <th>sample id</th>\n",
              "      <th>Haplogroup 2</th>\n",
              "      <th>Assigned Mutation</th>\n",
              "      <th>Death</th>\n",
              "      <th>Country</th>\n",
              "      <th>Earth Sciences</th>\n",
              "      <th>Region</th>\n",
              "      <th>DNA sample ethnicity and id</th>\n",
              "      <th>DNA sample ethnicity</th>\n",
              "      <th>1</th>\n",
              "      <th>...</th>\n",
              "      <th>16</th>\n",
              "      <th>17</th>\n",
              "      <th>18</th>\n",
              "      <th>19</th>\n",
              "      <th>20</th>\n",
              "      <th>21</th>\n",
              "      <th>22</th>\n",
              "      <th>23</th>\n",
              "      <th>24</th>\n",
              "      <th>25</th>\n",
              "    </tr>\n",
              "  </thead>\n",
              "  <tbody>\n",
              "    <tr>\n",
              "      <th>0</th>\n",
              "      <td>I1781</td>\n",
              "      <td>T</td>\n",
              "      <td>T-M184</td>\n",
              "      <td>3841</td>\n",
              "      <td>Turkmenistan</td>\n",
              "      <td>MIS 1</td>\n",
              "      <td>Central Asia</td>\n",
              "      <td>TKM_Gonur1_BA:I1781</td>\n",
              "      <td>TKM_Gonur1_BA</td>\n",
              "      <td>0.076261</td>\n",
              "      <td>...</td>\n",
              "      <td>0.012729</td>\n",
              "      <td>-0.022817</td>\n",
              "      <td>-0.002534</td>\n",
              "      <td>0.006411</td>\n",
              "      <td>-0.037143</td>\n",
              "      <td>0.000125</td>\n",
              "      <td>-0.016693</td>\n",
              "      <td>-0.006409</td>\n",
              "      <td>-0.011809</td>\n",
              "      <td>0.011735</td>\n",
              "    </tr>\n",
              "    <tr>\n",
              "      <th>1</th>\n",
              "      <td>I2085</td>\n",
              "      <td>E</td>\n",
              "      <td>E1b-M215</td>\n",
              "      <td>3899</td>\n",
              "      <td>Turkmenistan</td>\n",
              "      <td>MIS 1</td>\n",
              "      <td>Central Asia</td>\n",
              "      <td>TKM_Gonur1_BA:I2085</td>\n",
              "      <td>TKM_Gonur1_BA</td>\n",
              "      <td>0.081953</td>\n",
              "      <td>...</td>\n",
              "      <td>0.033413</td>\n",
              "      <td>0.011604</td>\n",
              "      <td>-0.005194</td>\n",
              "      <td>0.000126</td>\n",
              "      <td>-0.022386</td>\n",
              "      <td>0.004367</td>\n",
              "      <td>-0.013725</td>\n",
              "      <td>0.011462</td>\n",
              "      <td>-0.015183</td>\n",
              "      <td>0.001916</td>\n",
              "    </tr>\n",
              "    <tr>\n",
              "      <th>2</th>\n",
              "      <td>I2927</td>\n",
              "      <td>J</td>\n",
              "      <td>J-M304</td>\n",
              "      <td>4413</td>\n",
              "      <td>Iran</td>\n",
              "      <td>MIS 1</td>\n",
              "      <td>Middle East</td>\n",
              "      <td>IRN_Tepe_Hissar_C:I2927</td>\n",
              "      <td>IRN_Tepe_Hissar_C</td>\n",
              "      <td>0.080814</td>\n",
              "      <td>...</td>\n",
              "      <td>0.036727</td>\n",
              "      <td>0.001304</td>\n",
              "      <td>0.007981</td>\n",
              "      <td>0.006411</td>\n",
              "      <td>-0.024762</td>\n",
              "      <td>0.013851</td>\n",
              "      <td>-0.020155</td>\n",
              "      <td>-0.005423</td>\n",
              "      <td>-0.027594</td>\n",
              "      <td>0.022393</td>\n",
              "    </tr>\n",
              "    <tr>\n",
              "      <th>3</th>\n",
              "      <td>I4246</td>\n",
              "      <td>E</td>\n",
              "      <td>E1b-M35</td>\n",
              "      <td>4202</td>\n",
              "      <td>Spain</td>\n",
              "      <td>MIS 1</td>\n",
              "      <td>Western Europe</td>\n",
              "      <td>Iberia_Central_CA_Afr:I4246</td>\n",
              "      <td>Iberia_Central_CA_Afr</td>\n",
              "      <td>-0.051220</td>\n",
              "      <td>...</td>\n",
              "      <td>-0.016309</td>\n",
              "      <td>0.000652</td>\n",
              "      <td>-0.016596</td>\n",
              "      <td>-0.033561</td>\n",
              "      <td>0.003001</td>\n",
              "      <td>-0.011729</td>\n",
              "      <td>-0.018548</td>\n",
              "      <td>0.013064</td>\n",
              "      <td>-0.009399</td>\n",
              "      <td>0.005987</td>\n",
              "    </tr>\n",
              "    <tr>\n",
              "      <th>4</th>\n",
              "      <td>I7207</td>\n",
              "      <td>R</td>\n",
              "      <td>R1a-M420</td>\n",
              "      <td>4400</td>\n",
              "      <td>Czech Republic</td>\n",
              "      <td>MIS 1</td>\n",
              "      <td>Eastern Europe</td>\n",
              "      <td>Corded_Ware_CZE_late:I7207</td>\n",
              "      <td>Corded_Ware_CZE_late</td>\n",
              "      <td>0.128620</td>\n",
              "      <td>...</td>\n",
              "      <td>-0.001326</td>\n",
              "      <td>-0.003129</td>\n",
              "      <td>0.000760</td>\n",
              "      <td>0.008170</td>\n",
              "      <td>0.003627</td>\n",
              "      <td>-0.001248</td>\n",
              "      <td>0.000618</td>\n",
              "      <td>0.000493</td>\n",
              "      <td>0.008796</td>\n",
              "      <td>0.001197</td>\n",
              "    </tr>\n",
              "    <tr>\n",
              "      <th>...</th>\n",
              "      <td>...</td>\n",
              "      <td>...</td>\n",
              "      <td>...</td>\n",
              "      <td>...</td>\n",
              "      <td>...</td>\n",
              "      <td>...</td>\n",
              "      <td>...</td>\n",
              "      <td>...</td>\n",
              "      <td>...</td>\n",
              "      <td>...</td>\n",
              "      <td>...</td>\n",
              "      <td>...</td>\n",
              "      <td>...</td>\n",
              "      <td>...</td>\n",
              "      <td>...</td>\n",
              "      <td>...</td>\n",
              "      <td>...</td>\n",
              "      <td>...</td>\n",
              "      <td>...</td>\n",
              "      <td>...</td>\n",
              "      <td>...</td>\n",
              "    </tr>\n",
              "    <tr>\n",
              "      <th>1076</th>\n",
              "      <td>HYR002</td>\n",
              "      <td>E</td>\n",
              "      <td>E1b-M293</td>\n",
              "      <td>2300</td>\n",
              "      <td>Kenya</td>\n",
              "      <td>MIS 1</td>\n",
              "      <td>Sub-Saharan Africa</td>\n",
              "      <td>KEN_HyraxHill_2300BP:HYR002</td>\n",
              "      <td>KEN_HyraxHill_2300BP</td>\n",
              "      <td>-0.284558</td>\n",
              "      <td>...</td>\n",
              "      <td>-0.028109</td>\n",
              "      <td>0.006128</td>\n",
              "      <td>-0.007348</td>\n",
              "      <td>0.000880</td>\n",
              "      <td>0.000375</td>\n",
              "      <td>0.000873</td>\n",
              "      <td>-0.004451</td>\n",
              "      <td>-0.003574</td>\n",
              "      <td>0.004097</td>\n",
              "      <td>-0.009700</td>\n",
              "    </tr>\n",
              "    <tr>\n",
              "      <th>1077</th>\n",
              "      <td>MOL001</td>\n",
              "      <td>E</td>\n",
              "      <td>E1b-M293</td>\n",
              "      <td>1500</td>\n",
              "      <td>Kenya</td>\n",
              "      <td>MIS 1</td>\n",
              "      <td>Sub-Saharan Africa</td>\n",
              "      <td>KEN_MoloCave_1500BP:MOL001</td>\n",
              "      <td>KEN_MoloCave_1500BP</td>\n",
              "      <td>-0.355128</td>\n",
              "      <td>...</td>\n",
              "      <td>-0.031954</td>\n",
              "      <td>0.017863</td>\n",
              "      <td>0.012542</td>\n",
              "      <td>-0.002765</td>\n",
              "      <td>-0.004877</td>\n",
              "      <td>0.002246</td>\n",
              "      <td>-0.003586</td>\n",
              "      <td>0.001479</td>\n",
              "      <td>-0.006025</td>\n",
              "      <td>-0.001916</td>\n",
              "    </tr>\n",
              "    <tr>\n",
              "      <th>1078</th>\n",
              "      <td>TAU001</td>\n",
              "      <td>E</td>\n",
              "      <td>E1b-M2</td>\n",
              "      <td>1100</td>\n",
              "      <td>Botswana</td>\n",
              "      <td>MIS 1</td>\n",
              "      <td>Sub-Saharan Africa</td>\n",
              "      <td>BWA_Taukome_1100BP:TAU001</td>\n",
              "      <td>BWA_Taukome_1100BP</td>\n",
              "      <td>-0.648792</td>\n",
              "      <td>...</td>\n",
              "      <td>-0.001458</td>\n",
              "      <td>-0.001173</td>\n",
              "      <td>0.042061</td>\n",
              "      <td>-0.025014</td>\n",
              "      <td>-0.006003</td>\n",
              "      <td>-0.001622</td>\n",
              "      <td>-0.002226</td>\n",
              "      <td>0.001602</td>\n",
              "      <td>-0.000723</td>\n",
              "      <td>0.009819</td>\n",
              "    </tr>\n",
              "    <tr>\n",
              "      <th>1079</th>\n",
              "      <td>XAR001</td>\n",
              "      <td>E</td>\n",
              "      <td>E1b-V38</td>\n",
              "      <td>1400</td>\n",
              "      <td>Botswana</td>\n",
              "      <td>MIS 1</td>\n",
              "      <td>Sub-Saharan Africa</td>\n",
              "      <td>BWA_Xaro_1400BP:XAR001</td>\n",
              "      <td>BWA_Xaro_1400BP</td>\n",
              "      <td>-0.586189</td>\n",
              "      <td>...</td>\n",
              "      <td>0.001724</td>\n",
              "      <td>0.011474</td>\n",
              "      <td>0.059290</td>\n",
              "      <td>-0.024008</td>\n",
              "      <td>-0.001876</td>\n",
              "      <td>-0.008360</td>\n",
              "      <td>0.002226</td>\n",
              "      <td>0.000246</td>\n",
              "      <td>-0.000964</td>\n",
              "      <td>-0.003712</td>\n",
              "    </tr>\n",
              "    <tr>\n",
              "      <th>1080</th>\n",
              "      <td>XAR002</td>\n",
              "      <td>E</td>\n",
              "      <td>E1b-M293</td>\n",
              "      <td>1400</td>\n",
              "      <td>Botswana</td>\n",
              "      <td>MIS 1</td>\n",
              "      <td>Sub-Saharan Africa</td>\n",
              "      <td>BWA_Xaro_1400BP:XAR002</td>\n",
              "      <td>BWA_Xaro_1400BP</td>\n",
              "      <td>-0.583913</td>\n",
              "      <td>...</td>\n",
              "      <td>0.000928</td>\n",
              "      <td>0.003520</td>\n",
              "      <td>0.078420</td>\n",
              "      <td>-0.026522</td>\n",
              "      <td>0.004377</td>\n",
              "      <td>-0.008859</td>\n",
              "      <td>-0.003710</td>\n",
              "      <td>0.002218</td>\n",
              "      <td>0.001928</td>\n",
              "      <td>-0.002874</td>\n",
              "    </tr>\n",
              "  </tbody>\n",
              "</table>\n",
              "<p>1081 rows × 34 columns</p>\n",
              "</div>\n",
              "      <button class=\"colab-df-convert\" onclick=\"convertToInteractive('df-55939ab2-c165-45d3-a9e1-07fc6859946b')\"\n",
              "              title=\"Convert this dataframe to an interactive table.\"\n",
              "              style=\"display:none;\">\n",
              "        \n",
              "  <svg xmlns=\"http://www.w3.org/2000/svg\" height=\"24px\"viewBox=\"0 0 24 24\"\n",
              "       width=\"24px\">\n",
              "    <path d=\"M0 0h24v24H0V0z\" fill=\"none\"/>\n",
              "    <path d=\"M18.56 5.44l.94 2.06.94-2.06 2.06-.94-2.06-.94-.94-2.06-.94 2.06-2.06.94zm-11 1L8.5 8.5l.94-2.06 2.06-.94-2.06-.94L8.5 2.5l-.94 2.06-2.06.94zm10 10l.94 2.06.94-2.06 2.06-.94-2.06-.94-.94-2.06-.94 2.06-2.06.94z\"/><path d=\"M17.41 7.96l-1.37-1.37c-.4-.4-.92-.59-1.43-.59-.52 0-1.04.2-1.43.59L10.3 9.45l-7.72 7.72c-.78.78-.78 2.05 0 2.83L4 21.41c.39.39.9.59 1.41.59.51 0 1.02-.2 1.41-.59l7.78-7.78 2.81-2.81c.8-.78.8-2.07 0-2.86zM5.41 20L4 18.59l7.72-7.72 1.47 1.35L5.41 20z\"/>\n",
              "  </svg>\n",
              "      </button>\n",
              "      \n",
              "  <style>\n",
              "    .colab-df-container {\n",
              "      display:flex;\n",
              "      flex-wrap:wrap;\n",
              "      gap: 12px;\n",
              "    }\n",
              "\n",
              "    .colab-df-convert {\n",
              "      background-color: #E8F0FE;\n",
              "      border: none;\n",
              "      border-radius: 50%;\n",
              "      cursor: pointer;\n",
              "      display: none;\n",
              "      fill: #1967D2;\n",
              "      height: 32px;\n",
              "      padding: 0 0 0 0;\n",
              "      width: 32px;\n",
              "    }\n",
              "\n",
              "    .colab-df-convert:hover {\n",
              "      background-color: #E2EBFA;\n",
              "      box-shadow: 0px 1px 2px rgba(60, 64, 67, 0.3), 0px 1px 3px 1px rgba(60, 64, 67, 0.15);\n",
              "      fill: #174EA6;\n",
              "    }\n",
              "\n",
              "    [theme=dark] .colab-df-convert {\n",
              "      background-color: #3B4455;\n",
              "      fill: #D2E3FC;\n",
              "    }\n",
              "\n",
              "    [theme=dark] .colab-df-convert:hover {\n",
              "      background-color: #434B5C;\n",
              "      box-shadow: 0px 1px 3px 1px rgba(0, 0, 0, 0.15);\n",
              "      filter: drop-shadow(0px 1px 2px rgba(0, 0, 0, 0.3));\n",
              "      fill: #FFFFFF;\n",
              "    }\n",
              "  </style>\n",
              "\n",
              "      <script>\n",
              "        const buttonEl =\n",
              "          document.querySelector('#df-55939ab2-c165-45d3-a9e1-07fc6859946b button.colab-df-convert');\n",
              "        buttonEl.style.display =\n",
              "          google.colab.kernel.accessAllowed ? 'block' : 'none';\n",
              "\n",
              "        async function convertToInteractive(key) {\n",
              "          const element = document.querySelector('#df-55939ab2-c165-45d3-a9e1-07fc6859946b');\n",
              "          const dataTable =\n",
              "            await google.colab.kernel.invokeFunction('convertToInteractive',\n",
              "                                                     [key], {});\n",
              "          if (!dataTable) return;\n",
              "\n",
              "          const docLinkHtml = 'Like what you see? Visit the ' +\n",
              "            '<a target=\"_blank\" href=https://colab.research.google.com/notebooks/data_table.ipynb>data table notebook</a>'\n",
              "            + ' to learn more about interactive tables.';\n",
              "          element.innerHTML = '';\n",
              "          dataTable['output_type'] = 'display_data';\n",
              "          await google.colab.output.renderOutput(dataTable, element);\n",
              "          const docLink = document.createElement('div');\n",
              "          docLink.innerHTML = docLinkHtml;\n",
              "          element.appendChild(docLink);\n",
              "        }\n",
              "      </script>\n",
              "    </div>\n",
              "  </div>\n",
              "  "
            ]
          },
          "metadata": {},
          "execution_count": 34
        }
      ]
    },
    {
      "cell_type": "code",
      "source": [
        "J2aM410=dfancientpcadna[dfancientpcadna['Assigned Mutation'] =='J2a-M410']\n",
        "J2aL24=dfancientpcadna[dfancientpcadna['Assigned Mutation']=='J2a-L24']\n",
        "J2aL26=dfancientpcadna[dfancientpcadna['Assigned Mutation']=='J2a-L26']\n",
        "J2aL27=dfancientpcadna[dfancientpcadna['Assigned Mutation']=='J2a-L27']\n",
        "J2aM319=dfancientpcadna[dfancientpcadna['Assigned Mutation'] =='J2a-M319']\n",
        "J2aM47=dfancientpcadna[dfancientpcadna['Assigned Mutation'] =='J2a-M47']\n",
        "\n",
        "hapframes=[J2aM410,J2aL24,J2aL26,J2aL27,J2aM47,J2aM319]\n",
        "J2acombined = pd.concat(hapframes)\n",
        "#dfcombined"
      ],
      "metadata": {
        "id": "Didx_itFzTbg"
      },
      "execution_count": 78,
      "outputs": []
    },
    {
      "cell_type": "code",
      "source": [
        ""
      ],
      "metadata": {
        "id": "mXC8yyfGBexL"
      },
      "execution_count": null,
      "outputs": []
    },
    {
      "cell_type": "code",
      "source": [
        "import matplotlib.pyplot as plt\n",
        "#plt.gcf().set_size_inches((90, 20))    \n",
        "\n",
        "ax = plt.axes(projection='3d')\n",
        "\n",
        "ax.scatter3D(J2acombined['1'], J2acombined['2'],J2acombined['Death'])\n",
        "ax.scatter3D(J2acombined['1'].iloc[3], J2acombined['2'].iloc[3],J2acombined['Death'].iloc[3])"
      ],
      "metadata": {
        "colab": {
          "base_uri": "https://localhost:8080/",
          "height": 265
        },
        "id": "3XUIe6Ls3bGZ",
        "outputId": "2809c531-3bce-40ee-abf9-76e16f7a4e88"
      },
      "execution_count": 84,
      "outputs": [
        {
          "output_type": "execute_result",
          "data": {
            "text/plain": [
              "<mpl_toolkits.mplot3d.art3d.Path3DCollection at 0x7fe0adcb4f90>"
            ]
          },
          "metadata": {},
          "execution_count": 84
        },
        {
          "output_type": "display_data",
          "data": {
            "text/plain": [
              "<Figure size 432x288 with 1 Axes>"
            ],
            "image/png": "[encoded data removed]"
          },
          "metadata": {
            "needs_background": "light"
          }
        }
      ]
    },
    {
      "cell_type": "code",
      "source": [
        "dfancientpcadna.to_csv('dfancientpcadna.csv')"
      ],
      "metadata": {
        "id": "s_smMzfru_Bh"
      },
      "execution_count": 66,
      "outputs": []
    },
    {
      "cell_type": "code",
      "source": [
        "dfancienthpg=dfancientpcadna.groupby(['Assigned Mutation']).mean().reset_index()\n",
        "dfancienthpg"
      ],
      "metadata": {
        "colab": {
          "base_uri": "https://localhost:8080/",
          "height": 505
        },
        "id": "ukVDqOt8kawN",
        "outputId": "ebdb9dbe-80b6-4d43-caa8-7f1924e57825"
      },
      "execution_count": 40,
      "outputs": [
        {
          "output_type": "execute_result",
          "data": {
            "text/plain": [
              "    Assigned Mutation        Death         1         2         3         4  \\\n",
              "0             A00-AF6  7890.000000 -0.607815  0.050776  0.015085  0.026486   \n",
              "1            A1b-L427  2548.000000 -0.286834  0.099522 -0.023759 -0.086887   \n",
              "2             A1b-M13  2146.500000 -0.475780  0.072610  0.001508 -0.013081   \n",
              "3             A1b-M51  1909.000000 -0.641962  0.055854  0.026021  0.034884   \n",
              "4             A1b-M91  7508.000000 -0.563424  0.059409  0.008674  0.025517   \n",
              "..                ...          ...       ...       ...       ...       ...   \n",
              "147            S-B254  1080.000000 -0.037562 -0.262007 -0.204399  0.207367   \n",
              "148           SM-P399  2490.000000 -0.038700 -0.243727 -0.214582  0.239021   \n",
              "149            T-M184  6089.666667  0.074744  0.106292 -0.093023 -0.052434   \n",
              "150          T1a-L162  6225.000000  0.095124  0.165241 -0.030762 -0.117065   \n",
              "151           T1a-M70  4341.000000  0.079676  0.097491 -0.121056 -0.011628   \n",
              "\n",
              "            5         6         7         8  ...        16        17  \\\n",
              "0   -0.001846  0.007809  0.128316 -0.100842  ... -0.001193  0.011474   \n",
              "1    0.000615 -0.047969 -0.013396 -0.004615  ... -0.022540  0.022948   \n",
              "2    0.000616 -0.015617  0.127376 -0.103496  ... -0.016706  0.027967   \n",
              "3    0.004616 -0.001116  0.267677 -0.210222  ... -0.020021  0.038072   \n",
              "4   -0.000462 -0.006275  0.169443 -0.126687  ... -0.014320  0.026142   \n",
              "..        ...       ...       ...       ...  ...       ...       ...   \n",
              "147  0.166800 -0.339131  0.000470  0.001385  ... -0.005038 -0.014342   \n",
              "148  0.168955 -0.393794  0.001645  0.010615  ... -0.001061 -0.000391   \n",
              "149 -0.053138 -0.007344  0.008774 -0.009230  ...  0.008839 -0.016863   \n",
              "150  0.022949 -0.056854 -0.012120 -0.008110  ...  0.001118 -0.002850   \n",
              "151 -0.103404  0.015060  0.010105 -0.008307  ...  0.027844 -0.008996   \n",
              "\n",
              "           18        19        20        21        22        23        24  \\\n",
              "0    0.020650 -0.003897 -0.002126 -0.004617  0.001113 -0.000246 -0.000361   \n",
              "1    0.002914  0.004777 -0.001126  0.006489 -0.000742 -0.002095 -0.008435   \n",
              "2    0.148732 -0.044120  0.002189 -0.014475  0.000247  0.000123  0.000783   \n",
              "3    0.292144 -0.091885  0.006628 -0.033441 -0.001484  0.003204  0.001566   \n",
              "4    0.121367 -0.025454 -0.006378 -0.020090  0.001237  0.000246 -0.001084   \n",
              "..        ...       ...       ...       ...       ...       ...       ...   \n",
              "147 -0.000127  0.000880 -0.019885 -0.001996 -0.008656 -0.008751 -0.003856   \n",
              "148  0.002534  0.002640  0.009254 -0.000749  0.000866 -0.002711 -0.014701   \n",
              "149 -0.000422  0.005950 -0.020802  0.000707 -0.005358 -0.003328 -0.012411   \n",
              "150  0.005122  0.005315  0.009737  0.001052  0.006889 -0.000035 -0.007884   \n",
              "151  0.007095  0.002891 -0.015883  0.010357 -0.013849 -0.007272 -0.024823   \n",
              "\n",
              "           25  \n",
              "0   -0.006466  \n",
              "1   -0.000718  \n",
              "2   -0.003472  \n",
              "3    0.003233  \n",
              "4   -0.000539  \n",
              "..        ...  \n",
              "147 -0.004191  \n",
              "148 -0.013292  \n",
              "149  0.009300  \n",
              "150 -0.000650  \n",
              "151  0.017483  \n",
              "\n",
              "[152 rows x 27 columns]"
            ],
            "text/html": [
              "\n",
              "  <div id=\"df-5b081c3f-9ad5-4562-a2b1-18c546965878\">\n",
              "    <div class=\"colab-df-container\">\n",
              "      <div>\n",
              "<style scoped>\n",
              "    .dataframe tbody tr th:only-of-type {\n",
              "        vertical-align: middle;\n",
              "    }\n",
              "\n",
              "    .dataframe tbody tr th {\n",
              "        vertical-align: top;\n",
              "    }\n",
              "\n",
              "    .dataframe thead th {\n",
              "        text-align: right;\n",
              "    }\n",
              "</style>\n",
              "<table border=\"1\" class=\"dataframe\">\n",
              "  <thead>\n",
              "    <tr style=\"text-align: right;\">\n",
              "      <th></th>\n",
              "      <th>Assigned Mutation</th>\n",
              "      <th>Death</th>\n",
              "      <th>1</th>\n",
              "      <th>2</th>\n",
              "      <th>3</th>\n",
              "      <th>4</th>\n",
              "      <th>5</th>\n",
              "      <th>6</th>\n",
              "      <th>7</th>\n",
              "      <th>8</th>\n",
              "      <th>...</th>\n",
              "      <th>16</th>\n",
              "      <th>17</th>\n",
              "      <th>18</th>\n",
              "      <th>19</th>\n",
              "      <th>20</th>\n",
              "      <th>21</th>\n",
              "      <th>22</th>\n",
              "      <th>23</th>\n",
              "      <th>24</th>\n",
              "      <th>25</th>\n",
              "    </tr>\n",
              "  </thead>\n",
              "  <tbody>\n",
              "    <tr>\n",
              "      <th>0</th>\n",
              "      <td>A00-AF6</td>\n",
              "      <td>7890.000000</td>\n",
              "      <td>-0.607815</td>\n",
              "      <td>0.050776</td>\n",
              "      <td>0.015085</td>\n",
              "      <td>0.026486</td>\n",
              "      <td>-0.001846</td>\n",
              "      <td>0.007809</td>\n",
              "      <td>0.128316</td>\n",
              "      <td>-0.100842</td>\n",
              "      <td>...</td>\n",
              "      <td>-0.001193</td>\n",
              "      <td>0.011474</td>\n",
              "      <td>0.020650</td>\n",
              "      <td>-0.003897</td>\n",
              "      <td>-0.002126</td>\n",
              "      <td>-0.004617</td>\n",
              "      <td>0.001113</td>\n",
              "      <td>-0.000246</td>\n",
              "      <td>-0.000361</td>\n",
              "      <td>-0.006466</td>\n",
              "    </tr>\n",
              "    <tr>\n",
              "      <th>1</th>\n",
              "      <td>A1b-L427</td>\n",
              "      <td>2548.000000</td>\n",
              "      <td>-0.286834</td>\n",
              "      <td>0.099522</td>\n",
              "      <td>-0.023759</td>\n",
              "      <td>-0.086887</td>\n",
              "      <td>0.000615</td>\n",
              "      <td>-0.047969</td>\n",
              "      <td>-0.013396</td>\n",
              "      <td>-0.004615</td>\n",
              "      <td>...</td>\n",
              "      <td>-0.022540</td>\n",
              "      <td>0.022948</td>\n",
              "      <td>0.002914</td>\n",
              "      <td>0.004777</td>\n",
              "      <td>-0.001126</td>\n",
              "      <td>0.006489</td>\n",
              "      <td>-0.000742</td>\n",
              "      <td>-0.002095</td>\n",
              "      <td>-0.008435</td>\n",
              "      <td>-0.000718</td>\n",
              "    </tr>\n",
              "    <tr>\n",
              "      <th>2</th>\n",
              "      <td>A1b-M13</td>\n",
              "      <td>2146.500000</td>\n",
              "      <td>-0.475780</td>\n",
              "      <td>0.072610</td>\n",
              "      <td>0.001508</td>\n",
              "      <td>-0.013081</td>\n",
              "      <td>0.000616</td>\n",
              "      <td>-0.015617</td>\n",
              "      <td>0.127376</td>\n",
              "      <td>-0.103496</td>\n",
              "      <td>...</td>\n",
              "      <td>-0.016706</td>\n",
              "      <td>0.027967</td>\n",
              "      <td>0.148732</td>\n",
              "      <td>-0.044120</td>\n",
              "      <td>0.002189</td>\n",
              "      <td>-0.014475</td>\n",
              "      <td>0.000247</td>\n",
              "      <td>0.000123</td>\n",
              "      <td>0.000783</td>\n",
              "      <td>-0.003472</td>\n",
              "    </tr>\n",
              "    <tr>\n",
              "      <th>3</th>\n",
              "      <td>A1b-M51</td>\n",
              "      <td>1909.000000</td>\n",
              "      <td>-0.641962</td>\n",
              "      <td>0.055854</td>\n",
              "      <td>0.026021</td>\n",
              "      <td>0.034884</td>\n",
              "      <td>0.004616</td>\n",
              "      <td>-0.001116</td>\n",
              "      <td>0.267677</td>\n",
              "      <td>-0.210222</td>\n",
              "      <td>...</td>\n",
              "      <td>-0.020021</td>\n",
              "      <td>0.038072</td>\n",
              "      <td>0.292144</td>\n",
              "      <td>-0.091885</td>\n",
              "      <td>0.006628</td>\n",
              "      <td>-0.033441</td>\n",
              "      <td>-0.001484</td>\n",
              "      <td>0.003204</td>\n",
              "      <td>0.001566</td>\n",
              "      <td>0.003233</td>\n",
              "    </tr>\n",
              "    <tr>\n",
              "      <th>4</th>\n",
              "      <td>A1b-M91</td>\n",
              "      <td>7508.000000</td>\n",
              "      <td>-0.563424</td>\n",
              "      <td>0.059409</td>\n",
              "      <td>0.008674</td>\n",
              "      <td>0.025517</td>\n",
              "      <td>-0.000462</td>\n",
              "      <td>-0.006275</td>\n",
              "      <td>0.169443</td>\n",
              "      <td>-0.126687</td>\n",
              "      <td>...</td>\n",
              "      <td>-0.014320</td>\n",
              "      <td>0.026142</td>\n",
              "      <td>0.121367</td>\n",
              "      <td>-0.025454</td>\n",
              "      <td>-0.006378</td>\n",
              "      <td>-0.020090</td>\n",
              "      <td>0.001237</td>\n",
              "      <td>0.000246</td>\n",
              "      <td>-0.001084</td>\n",
              "      <td>-0.000539</td>\n",
              "    </tr>\n",
              "    <tr>\n",
              "      <th>...</th>\n",
              "      <td>...</td>\n",
              "      <td>...</td>\n",
              "      <td>...</td>\n",
              "      <td>...</td>\n",
              "      <td>...</td>\n",
              "      <td>...</td>\n",
              "      <td>...</td>\n",
              "      <td>...</td>\n",
              "      <td>...</td>\n",
              "      <td>...</td>\n",
              "      <td>...</td>\n",
              "      <td>...</td>\n",
              "      <td>...</td>\n",
              "      <td>...</td>\n",
              "      <td>...</td>\n",
              "      <td>...</td>\n",
              "      <td>...</td>\n",
              "      <td>...</td>\n",
              "      <td>...</td>\n",
              "      <td>...</td>\n",
              "      <td>...</td>\n",
              "    </tr>\n",
              "    <tr>\n",
              "      <th>147</th>\n",
              "      <td>S-B254</td>\n",
              "      <td>1080.000000</td>\n",
              "      <td>-0.037562</td>\n",
              "      <td>-0.262007</td>\n",
              "      <td>-0.204399</td>\n",
              "      <td>0.207367</td>\n",
              "      <td>0.166800</td>\n",
              "      <td>-0.339131</td>\n",
              "      <td>0.000470</td>\n",
              "      <td>0.001385</td>\n",
              "      <td>...</td>\n",
              "      <td>-0.005038</td>\n",
              "      <td>-0.014342</td>\n",
              "      <td>-0.000127</td>\n",
              "      <td>0.000880</td>\n",
              "      <td>-0.019885</td>\n",
              "      <td>-0.001996</td>\n",
              "      <td>-0.008656</td>\n",
              "      <td>-0.008751</td>\n",
              "      <td>-0.003856</td>\n",
              "      <td>-0.004191</td>\n",
              "    </tr>\n",
              "    <tr>\n",
              "      <th>148</th>\n",
              "      <td>SM-P399</td>\n",
              "      <td>2490.000000</td>\n",
              "      <td>-0.038700</td>\n",
              "      <td>-0.243727</td>\n",
              "      <td>-0.214582</td>\n",
              "      <td>0.239021</td>\n",
              "      <td>0.168955</td>\n",
              "      <td>-0.393794</td>\n",
              "      <td>0.001645</td>\n",
              "      <td>0.010615</td>\n",
              "      <td>...</td>\n",
              "      <td>-0.001061</td>\n",
              "      <td>-0.000391</td>\n",
              "      <td>0.002534</td>\n",
              "      <td>0.002640</td>\n",
              "      <td>0.009254</td>\n",
              "      <td>-0.000749</td>\n",
              "      <td>0.000866</td>\n",
              "      <td>-0.002711</td>\n",
              "      <td>-0.014701</td>\n",
              "      <td>-0.013292</td>\n",
              "    </tr>\n",
              "    <tr>\n",
              "      <th>149</th>\n",
              "      <td>T-M184</td>\n",
              "      <td>6089.666667</td>\n",
              "      <td>0.074744</td>\n",
              "      <td>0.106292</td>\n",
              "      <td>-0.093023</td>\n",
              "      <td>-0.052434</td>\n",
              "      <td>-0.053138</td>\n",
              "      <td>-0.007344</td>\n",
              "      <td>0.008774</td>\n",
              "      <td>-0.009230</td>\n",
              "      <td>...</td>\n",
              "      <td>0.008839</td>\n",
              "      <td>-0.016863</td>\n",
              "      <td>-0.000422</td>\n",
              "      <td>0.005950</td>\n",
              "      <td>-0.020802</td>\n",
              "      <td>0.000707</td>\n",
              "      <td>-0.005358</td>\n",
              "      <td>-0.003328</td>\n",
              "      <td>-0.012411</td>\n",
              "      <td>0.009300</td>\n",
              "    </tr>\n",
              "    <tr>\n",
              "      <th>150</th>\n",
              "      <td>T1a-L162</td>\n",
              "      <td>6225.000000</td>\n",
              "      <td>0.095124</td>\n",
              "      <td>0.165241</td>\n",
              "      <td>-0.030762</td>\n",
              "      <td>-0.117065</td>\n",
              "      <td>0.022949</td>\n",
              "      <td>-0.056854</td>\n",
              "      <td>-0.012120</td>\n",
              "      <td>-0.008110</td>\n",
              "      <td>...</td>\n",
              "      <td>0.001118</td>\n",
              "      <td>-0.002850</td>\n",
              "      <td>0.005122</td>\n",
              "      <td>0.005315</td>\n",
              "      <td>0.009737</td>\n",
              "      <td>0.001052</td>\n",
              "      <td>0.006889</td>\n",
              "      <td>-0.000035</td>\n",
              "      <td>-0.007884</td>\n",
              "      <td>-0.000650</td>\n",
              "    </tr>\n",
              "    <tr>\n",
              "      <th>151</th>\n",
              "      <td>T1a-M70</td>\n",
              "      <td>4341.000000</td>\n",
              "      <td>0.079676</td>\n",
              "      <td>0.097491</td>\n",
              "      <td>-0.121056</td>\n",
              "      <td>-0.011628</td>\n",
              "      <td>-0.103404</td>\n",
              "      <td>0.015060</td>\n",
              "      <td>0.010105</td>\n",
              "      <td>-0.008307</td>\n",
              "      <td>...</td>\n",
              "      <td>0.027844</td>\n",
              "      <td>-0.008996</td>\n",
              "      <td>0.007095</td>\n",
              "      <td>0.002891</td>\n",
              "      <td>-0.015883</td>\n",
              "      <td>0.010357</td>\n",
              "      <td>-0.013849</td>\n",
              "      <td>-0.007272</td>\n",
              "      <td>-0.024823</td>\n",
              "      <td>0.017483</td>\n",
              "    </tr>\n",
              "  </tbody>\n",
              "</table>\n",
              "<p>152 rows × 27 columns</p>\n",
              "</div>\n",
              "      <button class=\"colab-df-convert\" onclick=\"convertToInteractive('df-5b081c3f-9ad5-4562-a2b1-18c546965878')\"\n",
              "              title=\"Convert this dataframe to an interactive table.\"\n",
              "              style=\"display:none;\">\n",
              "        \n",
              "  <svg xmlns=\"http://www.w3.org/2000/svg\" height=\"24px\"viewBox=\"0 0 24 24\"\n",
              "       width=\"24px\">\n",
              "    <path d=\"M0 0h24v24H0V0z\" fill=\"none\"/>\n",
              "    <path d=\"M18.56 5.44l.94 2.06.94-2.06 2.06-.94-2.06-.94-.94-2.06-.94 2.06-2.06.94zm-11 1L8.5 8.5l.94-2.06 2.06-.94-2.06-.94L8.5 2.5l-.94 2.06-2.06.94zm10 10l.94 2.06.94-2.06 2.06-.94-2.06-.94-.94-2.06-.94 2.06-2.06.94z\"/><path d=\"M17.41 7.96l-1.37-1.37c-.4-.4-.92-.59-1.43-.59-.52 0-1.04.2-1.43.59L10.3 9.45l-7.72 7.72c-.78.78-.78 2.05 0 2.83L4 21.41c.39.39.9.59 1.41.59.51 0 1.02-.2 1.41-.59l7.78-7.78 2.81-2.81c.8-.78.8-2.07 0-2.86zM5.41 20L4 18.59l7.72-7.72 1.47 1.35L5.41 20z\"/>\n",
              "  </svg>\n",
              "      </button>\n",
              "      \n",
              "  <style>\n",
              "    .colab-df-container {\n",
              "      display:flex;\n",
              "      flex-wrap:wrap;\n",
              "      gap: 12px;\n",
              "    }\n",
              "\n",
              "    .colab-df-convert {\n",
              "      background-color: #E8F0FE;\n",
              "      border: none;\n",
              "      border-radius: 50%;\n",
              "      cursor: pointer;\n",
              "      display: none;\n",
              "      fill: #1967D2;\n",
              "      height: 32px;\n",
              "      padding: 0 0 0 0;\n",
              "      width: 32px;\n",
              "    }\n",
              "\n",
              "    .colab-df-convert:hover {\n",
              "      background-color: #E2EBFA;\n",
              "      box-shadow: 0px 1px 2px rgba(60, 64, 67, 0.3), 0px 1px 3px 1px rgba(60, 64, 67, 0.15);\n",
              "      fill: #174EA6;\n",
              "    }\n",
              "\n",
              "    [theme=dark] .colab-df-convert {\n",
              "      background-color: #3B4455;\n",
              "      fill: #D2E3FC;\n",
              "    }\n",
              "\n",
              "    [theme=dark] .colab-df-convert:hover {\n",
              "      background-color: #434B5C;\n",
              "      box-shadow: 0px 1px 3px 1px rgba(0, 0, 0, 0.15);\n",
              "      filter: drop-shadow(0px 1px 2px rgba(0, 0, 0, 0.3));\n",
              "      fill: #FFFFFF;\n",
              "    }\n",
              "  </style>\n",
              "\n",
              "      <script>\n",
              "        const buttonEl =\n",
              "          document.querySelector('#df-5b081c3f-9ad5-4562-a2b1-18c546965878 button.colab-df-convert');\n",
              "        buttonEl.style.display =\n",
              "          google.colab.kernel.accessAllowed ? 'block' : 'none';\n",
              "\n",
              "        async function convertToInteractive(key) {\n",
              "          const element = document.querySelector('#df-5b081c3f-9ad5-4562-a2b1-18c546965878');\n",
              "          const dataTable =\n",
              "            await google.colab.kernel.invokeFunction('convertToInteractive',\n",
              "                                                     [key], {});\n",
              "          if (!dataTable) return;\n",
              "\n",
              "          const docLinkHtml = 'Like what you see? Visit the ' +\n",
              "            '<a target=\"_blank\" href=https://colab.research.google.com/notebooks/data_table.ipynb>data table notebook</a>'\n",
              "            + ' to learn more about interactive tables.';\n",
              "          element.innerHTML = '';\n",
              "          dataTable['output_type'] = 'display_data';\n",
              "          await google.colab.output.renderOutput(dataTable, element);\n",
              "          const docLink = document.createElement('div');\n",
              "          docLink.innerHTML = docLinkHtml;\n",
              "          element.appendChild(docLink);\n",
              "        }\n",
              "      </script>\n",
              "    </div>\n",
              "  </div>\n",
              "  "
            ]
          },
          "metadata": {},
          "execution_count": 40
        }
      ]
    },
    {
      "cell_type": "code",
      "source": [
        "hpginput=input('')\n",
        "point=dfancientpcadna[dfancientpcadna['Assigned Mutation'] ==hpginput]\n",
        "point"
      ],
      "metadata": {
        "colab": {
          "base_uri": "https://localhost:8080/",
          "height": 226
        },
        "id": "s36aX9m4Bsvv",
        "outputId": "226d3624-7877-4664-d6bd-f71218ca23f3"
      },
      "execution_count": 85,
      "outputs": [
        {
          "name": "stdout",
          "output_type": "stream",
          "text": [
            "T1a-M70\n"
          ]
        },
        {
          "output_type": "execute_result",
          "data": {
            "text/plain": [
              "    sample id Haplogroup 2 Assigned Mutation  Death Country Earth Sciences  \\\n",
              "336     I2514            T           T1a-M70   4341    Iran          MIS 1   \n",
              "\n",
              "          Region DNA sample ethnicity and id DNA sample ethnicity         1  \\\n",
              "336  Middle East     IRN_Tepe_Hissar_C:I2514    IRN_Tepe_Hissar_C  0.079676   \n",
              "\n",
              "     ...        16        17        18        19        20        21  \\\n",
              "336  ...  0.027844 -0.008996  0.007095  0.002891 -0.015883  0.010357   \n",
              "\n",
              "           22        23        24        25  \n",
              "336 -0.013849 -0.007272 -0.024823  0.017483  \n",
              "\n",
              "[1 rows x 34 columns]"
            ],
            "text/html": [
              "\n",
              "  <div id=\"df-6d5c2409-8d7a-4f0c-8179-11d8a15b1216\">\n",
              "    <div class=\"colab-df-container\">\n",
              "      <div>\n",
              "<style scoped>\n",
              "    .dataframe tbody tr th:only-of-type {\n",
              "        vertical-align: middle;\n",
              "    }\n",
              "\n",
              "    .dataframe tbody tr th {\n",
              "        vertical-align: top;\n",
              "    }\n",
              "\n",
              "    .dataframe thead th {\n",
              "        text-align: right;\n",
              "    }\n",
              "</style>\n",
              "<table border=\"1\" class=\"dataframe\">\n",
              "  <thead>\n",
              "    <tr style=\"text-align: right;\">\n",
              "      <th></th>\n",
              "      <th>sample id</th>\n",
              "      <th>Haplogroup 2</th>\n",
              "      <th>Assigned Mutation</th>\n",
              "      <th>Death</th>\n",
              "      <th>Country</th>\n",
              "      <th>Earth Sciences</th>\n",
              "      <th>Region</th>\n",
              "      <th>DNA sample ethnicity and id</th>\n",
              "      <th>DNA sample ethnicity</th>\n",
              "      <th>1</th>\n",
              "      <th>...</th>\n",
              "      <th>16</th>\n",
              "      <th>17</th>\n",
              "      <th>18</th>\n",
              "      <th>19</th>\n",
              "      <th>20</th>\n",
              "      <th>21</th>\n",
              "      <th>22</th>\n",
              "      <th>23</th>\n",
              "      <th>24</th>\n",
              "      <th>25</th>\n",
              "    </tr>\n",
              "  </thead>\n",
              "  <tbody>\n",
              "    <tr>\n",
              "      <th>336</th>\n",
              "      <td>I2514</td>\n",
              "      <td>T</td>\n",
              "      <td>T1a-M70</td>\n",
              "      <td>4341</td>\n",
              "      <td>Iran</td>\n",
              "      <td>MIS 1</td>\n",
              "      <td>Middle East</td>\n",
              "      <td>IRN_Tepe_Hissar_C:I2514</td>\n",
              "      <td>IRN_Tepe_Hissar_C</td>\n",
              "      <td>0.079676</td>\n",
              "      <td>...</td>\n",
              "      <td>0.027844</td>\n",
              "      <td>-0.008996</td>\n",
              "      <td>0.007095</td>\n",
              "      <td>0.002891</td>\n",
              "      <td>-0.015883</td>\n",
              "      <td>0.010357</td>\n",
              "      <td>-0.013849</td>\n",
              "      <td>-0.007272</td>\n",
              "      <td>-0.024823</td>\n",
              "      <td>0.017483</td>\n",
              "    </tr>\n",
              "  </tbody>\n",
              "</table>\n",
              "<p>1 rows × 34 columns</p>\n",
              "</div>\n",
              "      <button class=\"colab-df-convert\" onclick=\"convertToInteractive('df-6d5c2409-8d7a-4f0c-8179-11d8a15b1216')\"\n",
              "              title=\"Convert this dataframe to an interactive table.\"\n",
              "              style=\"display:none;\">\n",
              "        \n",
              "  <svg xmlns=\"http://www.w3.org/2000/svg\" height=\"24px\"viewBox=\"0 0 24 24\"\n",
              "       width=\"24px\">\n",
              "    <path d=\"M0 0h24v24H0V0z\" fill=\"none\"/>\n",
              "    <path d=\"M18.56 5.44l.94 2.06.94-2.06 2.06-.94-2.06-.94-.94-2.06-.94 2.06-2.06.94zm-11 1L8.5 8.5l.94-2.06 2.06-.94-2.06-.94L8.5 2.5l-.94 2.06-2.06.94zm10 10l.94 2.06.94-2.06 2.06-.94-2.06-.94-.94-2.06-.94 2.06-2.06.94z\"/><path d=\"M17.41 7.96l-1.37-1.37c-.4-.4-.92-.59-1.43-.59-.52 0-1.04.2-1.43.59L10.3 9.45l-7.72 7.72c-.78.78-.78 2.05 0 2.83L4 21.41c.39.39.9.59 1.41.59.51 0 1.02-.2 1.41-.59l7.78-7.78 2.81-2.81c.8-.78.8-2.07 0-2.86zM5.41 20L4 18.59l7.72-7.72 1.47 1.35L5.41 20z\"/>\n",
              "  </svg>\n",
              "      </button>\n",
              "      \n",
              "  <style>\n",
              "    .colab-df-container {\n",
              "      display:flex;\n",
              "      flex-wrap:wrap;\n",
              "      gap: 12px;\n",
              "    }\n",
              "\n",
              "    .colab-df-convert {\n",
              "      background-color: #E8F0FE;\n",
              "      border: none;\n",
              "      border-radius: 50%;\n",
              "      cursor: pointer;\n",
              "      display: none;\n",
              "      fill: #1967D2;\n",
              "      height: 32px;\n",
              "      padding: 0 0 0 0;\n",
              "      width: 32px;\n",
              "    }\n",
              "\n",
              "    .colab-df-convert:hover {\n",
              "      background-color: #E2EBFA;\n",
              "      box-shadow: 0px 1px 2px rgba(60, 64, 67, 0.3), 0px 1px 3px 1px rgba(60, 64, 67, 0.15);\n",
              "      fill: #174EA6;\n",
              "    }\n",
              "\n",
              "    [theme=dark] .colab-df-convert {\n",
              "      background-color: #3B4455;\n",
              "      fill: #D2E3FC;\n",
              "    }\n",
              "\n",
              "    [theme=dark] .colab-df-convert:hover {\n",
              "      background-color: #434B5C;\n",
              "      box-shadow: 0px 1px 3px 1px rgba(0, 0, 0, 0.15);\n",
              "      filter: drop-shadow(0px 1px 2px rgba(0, 0, 0, 0.3));\n",
              "      fill: #FFFFFF;\n",
              "    }\n",
              "  </style>\n",
              "\n",
              "      <script>\n",
              "        const buttonEl =\n",
              "          document.querySelector('#df-6d5c2409-8d7a-4f0c-8179-11d8a15b1216 button.colab-df-convert');\n",
              "        buttonEl.style.display =\n",
              "          google.colab.kernel.accessAllowed ? 'block' : 'none';\n",
              "\n",
              "        async function convertToInteractive(key) {\n",
              "          const element = document.querySelector('#df-6d5c2409-8d7a-4f0c-8179-11d8a15b1216');\n",
              "          const dataTable =\n",
              "            await google.colab.kernel.invokeFunction('convertToInteractive',\n",
              "                                                     [key], {});\n",
              "          if (!dataTable) return;\n",
              "\n",
              "          const docLinkHtml = 'Like what you see? Visit the ' +\n",
              "            '<a target=\"_blank\" href=https://colab.research.google.com/notebooks/data_table.ipynb>data table notebook</a>'\n",
              "            + ' to learn more about interactive tables.';\n",
              "          element.innerHTML = '';\n",
              "          dataTable['output_type'] = 'display_data';\n",
              "          await google.colab.output.renderOutput(dataTable, element);\n",
              "          const docLink = document.createElement('div');\n",
              "          docLink.innerHTML = docLinkHtml;\n",
              "          element.appendChild(docLink);\n",
              "        }\n",
              "      </script>\n",
              "    </div>\n",
              "  </div>\n",
              "  "
            ]
          },
          "metadata": {},
          "execution_count": 85
        }
      ]
    },
    {
      "cell_type": "code",
      "source": [
        "import matplotlib.pyplot as plt\n",
        "#plt.gcf().set_size_inches((90, 20))    \n",
        "\n",
        "fig, ax = plt.subplots(figsize=(30, 24))\n",
        "ax.scatter(dfancienthpg['1'], dfancienthpg['2'],s = 1)\n",
        "ax.scatter(point['1'],point['2'],s=500)\n",
        "\n",
        "for i in range(len(dfancienthpg)):\n",
        "  ax.annotate(dfancienthpg['Assigned Mutation'][i], (dfancienthpg['1'][i], dfancienthpg['2'][i]))"
      ],
      "metadata": {
        "colab": {
          "base_uri": "https://localhost:8080/",
          "height": 1000
        },
        "id": "JTvdSIEKkUMn",
        "outputId": "8077cb0f-882b-48d2-9173-7ca66ee314b9"
      },
      "execution_count": 89,
      "outputs": [
        {
          "output_type": "stream",
          "name": "stderr",
          "text": [
            "/usr/local/lib/python3.7/dist-packages/matplotlib/backends/backend_agg.py:214: RuntimeWarning: Glyph 13 missing from current font.\n",
            "  font.set_text(s, 0.0, flags=flags)\n",
            "/usr/local/lib/python3.7/dist-packages/matplotlib/backends/backend_agg.py:183: RuntimeWarning: Glyph 13 missing from current font.\n",
            "  font.set_text(s, 0, flags=flags)\n"
          ]
        },
        {
          "output_type": "display_data",
          "data": {
            "text/plain": [
              "<Figure size 2160x1728 with 1 Axes>"
            ],
            "image/png": "[encoded data removed]"
          },
          "metadata": {
            "needs_background": "light"
          }
        }
      ]
    },
    {
      "cell_type": "code",
      "source": [
        "Lhpgpca=[]\n",
        "for i in range(len(dfadnalineages)):\n",
        "  for j in range(len(dfancient)):\n",
        "    if dfadnalineages['Master ID'][i] in dfancient['DNA sample ethnicity and id'][j]:\n",
        "      Lhpgpca.append([dfadnalineages['Master ID'][i],dfancient[j]])\n",
        "\n",
        "Lhpgpca"
      ],
      "metadata": {
        "colab": {
          "base_uri": "https://localhost:8080/",
          "height": 502
        },
        "id": "8PKG8EYMlzBp",
        "outputId": "60da1d8c-76c4-46a8-8ccb-62f048d32319"
      },
      "execution_count": null,
      "outputs": [
        {
          "output_type": "error",
          "ename": "KeyError",
          "evalue": "ignored",
          "traceback": [
            "\u001b[0;31m---------------------------------------------------------------------------\u001b[0m",
            "\u001b[0;31mKeyError\u001b[0m                                  Traceback (most recent call last)",
            "\u001b[0;32m/usr/local/lib/python3.7/dist-packages/pandas/core/indexes/base.py\u001b[0m in \u001b[0;36mget_loc\u001b[0;34m(self, key, method, tolerance)\u001b[0m\n\u001b[1;32m   3360\u001b[0m             \u001b[0;32mtry\u001b[0m\u001b[0;34m:\u001b[0m\u001b[0;34m\u001b[0m\u001b[0;34m\u001b[0m\u001b[0m\n\u001b[0;32m-> 3361\u001b[0;31m                 \u001b[0;32mreturn\u001b[0m \u001b[0mself\u001b[0m\u001b[0;34m.\u001b[0m\u001b[0m_engine\u001b[0m\u001b[0;34m.\u001b[0m\u001b[0mget_loc\u001b[0m\u001b[0;34m(\u001b[0m\u001b[0mcasted_key\u001b[0m\u001b[0;34m)\u001b[0m\u001b[0;34m\u001b[0m\u001b[0;34m\u001b[0m\u001b[0m\n\u001b[0m\u001b[1;32m   3362\u001b[0m             \u001b[0;32mexcept\u001b[0m \u001b[0mKeyError\u001b[0m \u001b[0;32mas\u001b[0m \u001b[0merr\u001b[0m\u001b[0;34m:\u001b[0m\u001b[0;34m\u001b[0m\u001b[0;34m\u001b[0m\u001b[0m\n",
            "\u001b[0;32m/usr/local/lib/python3.7/dist-packages/pandas/_libs/index.pyx\u001b[0m in \u001b[0;36mpandas._libs.index.IndexEngine.get_loc\u001b[0;34m()\u001b[0m\n",
            "\u001b[0;32m/usr/local/lib/python3.7/dist-packages/pandas/_libs/index.pyx\u001b[0m in \u001b[0;36mpandas._libs.index.IndexEngine.get_loc\u001b[0;34m()\u001b[0m\n",
            "\u001b[0;32mpandas/_libs/hashtable_class_helper.pxi\u001b[0m in \u001b[0;36mpandas._libs.hashtable.PyObjectHashTable.get_item\u001b[0;34m()\u001b[0m\n",
            "\u001b[0;32mpandas/_libs/hashtable_class_helper.pxi\u001b[0m in \u001b[0;36mpandas._libs.hashtable.PyObjectHashTable.get_item\u001b[0;34m()\u001b[0m\n",
            "\u001b[0;31mKeyError\u001b[0m: 1386",
            "\nThe above exception was the direct cause of the following exception:\n",
            "\u001b[0;31mKeyError\u001b[0m                                  Traceback (most recent call last)",
            "\u001b[0;32m<ipython-input-36-40c8d9758b7a>\u001b[0m in \u001b[0;36m<module>\u001b[0;34m()\u001b[0m\n\u001b[1;32m      3\u001b[0m   \u001b[0;32mfor\u001b[0m \u001b[0mj\u001b[0m \u001b[0;32min\u001b[0m \u001b[0mrange\u001b[0m\u001b[0;34m(\u001b[0m\u001b[0mlen\u001b[0m\u001b[0;34m(\u001b[0m\u001b[0mdfancient\u001b[0m\u001b[0;34m)\u001b[0m\u001b[0;34m)\u001b[0m\u001b[0;34m:\u001b[0m\u001b[0;34m\u001b[0m\u001b[0;34m\u001b[0m\u001b[0m\n\u001b[1;32m      4\u001b[0m     \u001b[0;32mif\u001b[0m \u001b[0mdfadnalineages\u001b[0m\u001b[0;34m[\u001b[0m\u001b[0;34m'Master ID'\u001b[0m\u001b[0;34m]\u001b[0m\u001b[0;34m[\u001b[0m\u001b[0mi\u001b[0m\u001b[0;34m]\u001b[0m \u001b[0;32min\u001b[0m \u001b[0mdfancient\u001b[0m\u001b[0;34m[\u001b[0m\u001b[0;34m'DNA sample ethnicity and id'\u001b[0m\u001b[0;34m]\u001b[0m\u001b[0;34m[\u001b[0m\u001b[0mj\u001b[0m\u001b[0;34m]\u001b[0m\u001b[0;34m:\u001b[0m\u001b[0;34m\u001b[0m\u001b[0;34m\u001b[0m\u001b[0m\n\u001b[0;32m----> 5\u001b[0;31m       \u001b[0mLhpgpca\u001b[0m\u001b[0;34m.\u001b[0m\u001b[0mappend\u001b[0m\u001b[0;34m(\u001b[0m\u001b[0;34m[\u001b[0m\u001b[0mdfadnalineages\u001b[0m\u001b[0;34m[\u001b[0m\u001b[0;34m'Master ID'\u001b[0m\u001b[0;34m]\u001b[0m\u001b[0;34m[\u001b[0m\u001b[0mi\u001b[0m\u001b[0;34m]\u001b[0m\u001b[0;34m,\u001b[0m\u001b[0mdfancient\u001b[0m\u001b[0;34m[\u001b[0m\u001b[0mj\u001b[0m\u001b[0;34m]\u001b[0m\u001b[0;34m]\u001b[0m\u001b[0;34m)\u001b[0m\u001b[0;34m\u001b[0m\u001b[0;34m\u001b[0m\u001b[0m\n\u001b[0m\u001b[1;32m      6\u001b[0m \u001b[0;34m\u001b[0m\u001b[0m\n\u001b[1;32m      7\u001b[0m \u001b[0mLhpgpca\u001b[0m\u001b[0;34m\u001b[0m\u001b[0;34m\u001b[0m\u001b[0m\n",
            "\u001b[0;32m/usr/local/lib/python3.7/dist-packages/pandas/core/frame.py\u001b[0m in \u001b[0;36m__getitem__\u001b[0;34m(self, key)\u001b[0m\n\u001b[1;32m   3456\u001b[0m             \u001b[0;32mif\u001b[0m \u001b[0mself\u001b[0m\u001b[0;34m.\u001b[0m\u001b[0mcolumns\u001b[0m\u001b[0;34m.\u001b[0m\u001b[0mnlevels\u001b[0m \u001b[0;34m>\u001b[0m \u001b[0;36m1\u001b[0m\u001b[0;34m:\u001b[0m\u001b[0;34m\u001b[0m\u001b[0;34m\u001b[0m\u001b[0m\n\u001b[1;32m   3457\u001b[0m                 \u001b[0;32mreturn\u001b[0m \u001b[0mself\u001b[0m\u001b[0;34m.\u001b[0m\u001b[0m_getitem_multilevel\u001b[0m\u001b[0;34m(\u001b[0m\u001b[0mkey\u001b[0m\u001b[0;34m)\u001b[0m\u001b[0;34m\u001b[0m\u001b[0;34m\u001b[0m\u001b[0m\n\u001b[0;32m-> 3458\u001b[0;31m             \u001b[0mindexer\u001b[0m \u001b[0;34m=\u001b[0m \u001b[0mself\u001b[0m\u001b[0;34m.\u001b[0m\u001b[0mcolumns\u001b[0m\u001b[0;34m.\u001b[0m\u001b[0mget_loc\u001b[0m\u001b[0;34m(\u001b[0m\u001b[0mkey\u001b[0m\u001b[0;34m)\u001b[0m\u001b[0;34m\u001b[0m\u001b[0;34m\u001b[0m\u001b[0m\n\u001b[0m\u001b[1;32m   3459\u001b[0m             \u001b[0;32mif\u001b[0m \u001b[0mis_integer\u001b[0m\u001b[0;34m(\u001b[0m\u001b[0mindexer\u001b[0m\u001b[0;34m)\u001b[0m\u001b[0;34m:\u001b[0m\u001b[0;34m\u001b[0m\u001b[0;34m\u001b[0m\u001b[0m\n\u001b[1;32m   3460\u001b[0m                 \u001b[0mindexer\u001b[0m \u001b[0;34m=\u001b[0m \u001b[0;34m[\u001b[0m\u001b[0mindexer\u001b[0m\u001b[0;34m]\u001b[0m\u001b[0;34m\u001b[0m\u001b[0;34m\u001b[0m\u001b[0m\n",
            "\u001b[0;32m/usr/local/lib/python3.7/dist-packages/pandas/core/indexes/base.py\u001b[0m in \u001b[0;36mget_loc\u001b[0;34m(self, key, method, tolerance)\u001b[0m\n\u001b[1;32m   3361\u001b[0m                 \u001b[0;32mreturn\u001b[0m \u001b[0mself\u001b[0m\u001b[0;34m.\u001b[0m\u001b[0m_engine\u001b[0m\u001b[0;34m.\u001b[0m\u001b[0mget_loc\u001b[0m\u001b[0;34m(\u001b[0m\u001b[0mcasted_key\u001b[0m\u001b[0;34m)\u001b[0m\u001b[0;34m\u001b[0m\u001b[0;34m\u001b[0m\u001b[0m\n\u001b[1;32m   3362\u001b[0m             \u001b[0;32mexcept\u001b[0m \u001b[0mKeyError\u001b[0m \u001b[0;32mas\u001b[0m \u001b[0merr\u001b[0m\u001b[0;34m:\u001b[0m\u001b[0;34m\u001b[0m\u001b[0;34m\u001b[0m\u001b[0m\n\u001b[0;32m-> 3363\u001b[0;31m                 \u001b[0;32mraise\u001b[0m \u001b[0mKeyError\u001b[0m\u001b[0;34m(\u001b[0m\u001b[0mkey\u001b[0m\u001b[0;34m)\u001b[0m \u001b[0;32mfrom\u001b[0m \u001b[0merr\u001b[0m\u001b[0;34m\u001b[0m\u001b[0;34m\u001b[0m\u001b[0m\n\u001b[0m\u001b[1;32m   3364\u001b[0m \u001b[0;34m\u001b[0m\u001b[0m\n\u001b[1;32m   3365\u001b[0m         \u001b[0;32mif\u001b[0m \u001b[0mis_scalar\u001b[0m\u001b[0;34m(\u001b[0m\u001b[0mkey\u001b[0m\u001b[0;34m)\u001b[0m \u001b[0;32mand\u001b[0m \u001b[0misna\u001b[0m\u001b[0;34m(\u001b[0m\u001b[0mkey\u001b[0m\u001b[0;34m)\u001b[0m \u001b[0;32mand\u001b[0m \u001b[0;32mnot\u001b[0m \u001b[0mself\u001b[0m\u001b[0;34m.\u001b[0m\u001b[0mhasnans\u001b[0m\u001b[0;34m:\u001b[0m\u001b[0;34m\u001b[0m\u001b[0;34m\u001b[0m\u001b[0m\n",
            "\u001b[0;31mKeyError\u001b[0m: 1386"
          ]
        }
      ]
    },
    {
      "cell_type": "code",
      "source": [
        "dfadnahpgpca = pd.DataFrame(Lhpgpca)\n",
        "#dfadnahpgpca.to_csv('adnahpgpca.csv')\n",
        "dfadnahpgpca"
      ],
      "metadata": {
        "colab": {
          "base_uri": "https://localhost:8080/",
          "height": 424
        },
        "id": "Hw9iqqh1oOEm",
        "outputId": "83972f9e-3de7-4f1d-a5fb-606eb7f34021"
      },
      "execution_count": null,
      "outputs": [
        {
          "output_type": "execute_result",
          "data": {
            "text/plain": [
              "      0                            1\n",
              "0    C1    Ethiopian_Jew:GRC12118092\n",
              "1    C1    Ethiopian_Jew:GRC12118113\n",
              "2    C1    Ethiopian_Jew:GRC12118119\n",
              "3    C1  Indonesian_Bali:GRC10041151\n",
              "4    C1  Indonesian_Bali:GRC10041153\n",
              "..   ..                          ...\n",
              "151  R4           Georgian_Imer:IMR4\n",
              "152  R7               Syrian:Ber13R7\n",
              "153  R9         Ethiopian_Afar:AFAR9\n",
              "154  R9              Welsh:WalesDR94\n",
              "155  R9              Welsh:WalesDR99\n",
              "\n",
              "[156 rows x 2 columns]"
            ],
            "text/html": [
              "\n",
              "  <div id=\"df-656f5410-c8ee-43ed-9c54-2e775221c249\">\n",
              "    <div class=\"colab-df-container\">\n",
              "      <div>\n",
              "<style scoped>\n",
              "    .dataframe tbody tr th:only-of-type {\n",
              "        vertical-align: middle;\n",
              "    }\n",
              "\n",
              "    .dataframe tbody tr th {\n",
              "        vertical-align: top;\n",
              "    }\n",
              "\n",
              "    .dataframe thead th {\n",
              "        text-align: right;\n",
              "    }\n",
              "</style>\n",
              "<table border=\"1\" class=\"dataframe\">\n",
              "  <thead>\n",
              "    <tr style=\"text-align: right;\">\n",
              "      <th></th>\n",
              "      <th>0</th>\n",
              "      <th>1</th>\n",
              "    </tr>\n",
              "  </thead>\n",
              "  <tbody>\n",
              "    <tr>\n",
              "      <th>0</th>\n",
              "      <td>C1</td>\n",
              "      <td>Ethiopian_Jew:GRC12118092</td>\n",
              "    </tr>\n",
              "    <tr>\n",
              "      <th>1</th>\n",
              "      <td>C1</td>\n",
              "      <td>Ethiopian_Jew:GRC12118113</td>\n",
              "    </tr>\n",
              "    <tr>\n",
              "      <th>2</th>\n",
              "      <td>C1</td>\n",
              "      <td>Ethiopian_Jew:GRC12118119</td>\n",
              "    </tr>\n",
              "    <tr>\n",
              "      <th>3</th>\n",
              "      <td>C1</td>\n",
              "      <td>Indonesian_Bali:GRC10041151</td>\n",
              "    </tr>\n",
              "    <tr>\n",
              "      <th>4</th>\n",
              "      <td>C1</td>\n",
              "      <td>Indonesian_Bali:GRC10041153</td>\n",
              "    </tr>\n",
              "    <tr>\n",
              "      <th>...</th>\n",
              "      <td>...</td>\n",
              "      <td>...</td>\n",
              "    </tr>\n",
              "    <tr>\n",
              "      <th>151</th>\n",
              "      <td>R4</td>\n",
              "      <td>Georgian_Imer:IMR4</td>\n",
              "    </tr>\n",
              "    <tr>\n",
              "      <th>152</th>\n",
              "      <td>R7</td>\n",
              "      <td>Syrian:Ber13R7</td>\n",
              "    </tr>\n",
              "    <tr>\n",
              "      <th>153</th>\n",
              "      <td>R9</td>\n",
              "      <td>Ethiopian_Afar:AFAR9</td>\n",
              "    </tr>\n",
              "    <tr>\n",
              "      <th>154</th>\n",
              "      <td>R9</td>\n",
              "      <td>Welsh:WalesDR94</td>\n",
              "    </tr>\n",
              "    <tr>\n",
              "      <th>155</th>\n",
              "      <td>R9</td>\n",
              "      <td>Welsh:WalesDR99</td>\n",
              "    </tr>\n",
              "  </tbody>\n",
              "</table>\n",
              "<p>156 rows × 2 columns</p>\n",
              "</div>\n",
              "      <button class=\"colab-df-convert\" onclick=\"convertToInteractive('df-656f5410-c8ee-43ed-9c54-2e775221c249')\"\n",
              "              title=\"Convert this dataframe to an interactive table.\"\n",
              "              style=\"display:none;\">\n",
              "        \n",
              "  <svg xmlns=\"http://www.w3.org/2000/svg\" height=\"24px\"viewBox=\"0 0 24 24\"\n",
              "       width=\"24px\">\n",
              "    <path d=\"M0 0h24v24H0V0z\" fill=\"none\"/>\n",
              "    <path d=\"M18.56 5.44l.94 2.06.94-2.06 2.06-.94-2.06-.94-.94-2.06-.94 2.06-2.06.94zm-11 1L8.5 8.5l.94-2.06 2.06-.94-2.06-.94L8.5 2.5l-.94 2.06-2.06.94zm10 10l.94 2.06.94-2.06 2.06-.94-2.06-.94-.94-2.06-.94 2.06-2.06.94z\"/><path d=\"M17.41 7.96l-1.37-1.37c-.4-.4-.92-.59-1.43-.59-.52 0-1.04.2-1.43.59L10.3 9.45l-7.72 7.72c-.78.78-.78 2.05 0 2.83L4 21.41c.39.39.9.59 1.41.59.51 0 1.02-.2 1.41-.59l7.78-7.78 2.81-2.81c.8-.78.8-2.07 0-2.86zM5.41 20L4 18.59l7.72-7.72 1.47 1.35L5.41 20z\"/>\n",
              "  </svg>\n",
              "      </button>\n",
              "      \n",
              "  <style>\n",
              "    .colab-df-container {\n",
              "      display:flex;\n",
              "      flex-wrap:wrap;\n",
              "      gap: 12px;\n",
              "    }\n",
              "\n",
              "    .colab-df-convert {\n",
              "      background-color: #E8F0FE;\n",
              "      border: none;\n",
              "      border-radius: 50%;\n",
              "      cursor: pointer;\n",
              "      display: none;\n",
              "      fill: #1967D2;\n",
              "      height: 32px;\n",
              "      padding: 0 0 0 0;\n",
              "      width: 32px;\n",
              "    }\n",
              "\n",
              "    .colab-df-convert:hover {\n",
              "      background-color: #E2EBFA;\n",
              "      box-shadow: 0px 1px 2px rgba(60, 64, 67, 0.3), 0px 1px 3px 1px rgba(60, 64, 67, 0.15);\n",
              "      fill: #174EA6;\n",
              "    }\n",
              "\n",
              "    [theme=dark] .colab-df-convert {\n",
              "      background-color: #3B4455;\n",
              "      fill: #D2E3FC;\n",
              "    }\n",
              "\n",
              "    [theme=dark] .colab-df-convert:hover {\n",
              "      background-color: #434B5C;\n",
              "      box-shadow: 0px 1px 3px 1px rgba(0, 0, 0, 0.15);\n",
              "      filter: drop-shadow(0px 1px 2px rgba(0, 0, 0, 0.3));\n",
              "      fill: #FFFFFF;\n",
              "    }\n",
              "  </style>\n",
              "\n",
              "      <script>\n",
              "        const buttonEl =\n",
              "          document.querySelector('#df-656f5410-c8ee-43ed-9c54-2e775221c249 button.colab-df-convert');\n",
              "        buttonEl.style.display =\n",
              "          google.colab.kernel.accessAllowed ? 'block' : 'none';\n",
              "\n",
              "        async function convertToInteractive(key) {\n",
              "          const element = document.querySelector('#df-656f5410-c8ee-43ed-9c54-2e775221c249');\n",
              "          const dataTable =\n",
              "            await google.colab.kernel.invokeFunction('convertToInteractive',\n",
              "                                                     [key], {});\n",
              "          if (!dataTable) return;\n",
              "\n",
              "          const docLinkHtml = 'Like what you see? Visit the ' +\n",
              "            '<a target=\"_blank\" href=https://colab.research.google.com/notebooks/data_table.ipynb>data table notebook</a>'\n",
              "            + ' to learn more about interactive tables.';\n",
              "          element.innerHTML = '';\n",
              "          dataTable['output_type'] = 'display_data';\n",
              "          await google.colab.output.renderOutput(dataTable, element);\n",
              "          const docLink = document.createElement('div');\n",
              "          docLink.innerHTML = docLinkHtml;\n",
              "          element.appendChild(docLink);\n",
              "        }\n",
              "      </script>\n",
              "    </div>\n",
              "  </div>\n",
              "  "
            ]
          },
          "metadata": {},
          "execution_count": 31
        }
      ]
    },
    {
      "cell_type": "code",
      "source": [
        "for i in range(len())"
      ],
      "metadata": {
        "id": "ThninU_SlvaA"
      },
      "execution_count": null,
      "outputs": []
    },
    {
      "cell_type": "markdown",
      "source": [
        "PCA"
      ],
      "metadata": {
        "id": "45uHIKNMtE7M"
      }
    },
    {
      "cell_type": "code",
      "source": [
        "import matplotlib as plt\n",
        "import matplotlib.pyplot as plt\n",
        "\n",
        "fig, ax = plt.subplots()\n",
        "scatter = ax.scatter(Xsubcon.iloc[:,0], Xsubcon.iloc[:,1])\n",
        "fig=plt.figure(figsize=(500,100))\n",
        "\n",
        "# produce a legend with the unique colors from the scatter\n",
        "legend1 = ax.legend(*scatter.legend_elements(),\n",
        "                    loc=\"lower left\", title=\"Classes\")\n",
        "ax.add_artist(legend1)\n",
        "\n",
        "# produce a legend with a cross section of sizes from the scatter\n",
        "#handles, labels = scatter.legend_elements(prop=\"sizes\", alpha=0.6)\n",
        "#legend2 = ax.legend(handles, labels, loc=\"upper right\", title=\"Sizes\")\n",
        "\n",
        "plt.show()"
      ],
      "metadata": {
        "colab": {
          "base_uri": "https://localhost:8080/",
          "height": 337
        },
        "id": "RYhr7LMMtGLu",
        "outputId": "918ba017-9eb4-4cf8-bc78-cad9777a7abe"
      },
      "execution_count": null,
      "outputs": [
        {
          "output_type": "stream",
          "name": "stderr",
          "text": [
            "/usr/local/lib/python3.7/dist-packages/matplotlib/collections.py:988: UserWarning: Collection without array used. Make sure to specify the values to be colormapped via the `c` argument.\n",
            "  warnings.warn(\"Collection without array used. Make sure to \"\n"
          ]
        },
        {
          "output_type": "display_data",
          "data": {
            "text/plain": [
              "<Figure size 432x288 with 1 Axes>"
            ],
            "image/png": "[encoded data removed]"
          },
          "metadata": {
            "needs_background": "light"
          }
        },
        {
          "output_type": "display_data",
          "data": {
            "text/plain": [
              "<Figure size 36000x7200 with 0 Axes>"
            ]
          },
          "metadata": {}
        }
      ]
    },
    {
      "cell_type": "code",
      "source": [
        "import matplotlib as plt\n",
        "import matplotlib.pyplot as plt\n",
        "\n",
        "fig, ax = plt.subplots()\n",
        "scatter = ax.scatter(Xcombined.iloc[:,0], Xcombined.iloc[:,1])\n",
        "fig=plt.figure(figsize=(500,100))\n",
        "\n",
        "# produce a legend with the unique colors from the scatter\n",
        "legend1 = ax.legend(*scatter.legend_elements(),\n",
        "                    loc=\"lower left\", title=\"Classes\")\n",
        "ax.add_artist(legend1)\n",
        "\n",
        "# produce a legend with a cross section of sizes from the scatter\n",
        "#handles, labels = scatter.legend_elements(prop=\"sizes\", alpha=0.6)\n",
        "#legend2 = ax.legend(handles, labels, loc=\"upper right\", title=\"Sizes\")\n",
        "\n",
        "plt.show()"
      ],
      "metadata": {
        "colab": {
          "base_uri": "https://localhost:8080/",
          "height": 340
        },
        "id": "ADm04yDEtuky",
        "outputId": "54616f2c-4fc3-4283-9c0f-7fd04410b9a7"
      },
      "execution_count": null,
      "outputs": [
        {
          "output_type": "stream",
          "name": "stderr",
          "text": [
            "/usr/local/lib/python3.7/dist-packages/matplotlib/collections.py:988: UserWarning: Collection without array used. Make sure to specify the values to be colormapped via the `c` argument.\n",
            "  warnings.warn(\"Collection without array used. Make sure to \"\n"
          ]
        },
        {
          "output_type": "display_data",
          "data": {
            "text/plain": [
              "<Figure size 432x288 with 1 Axes>"
            ],
            "image/png": "[encoded data removed]"
          },
          "metadata": {
            "needs_background": "light"
          }
        },
        {
          "output_type": "display_data",
          "data": {
            "text/plain": [
              "<Figure size 36000x7200 with 0 Axes>"
            ]
          },
          "metadata": {}
        }
      ]
    },
    {
      "cell_type": "code",
      "source": [
        "#Approach A is to mark all with one c and the other one with another class-Which will lead to plots marking them in different colors"
      ],
      "metadata": {
        "id": "8spzMO14yF57"
      },
      "execution_count": null,
      "outputs": []
    },
    {
      "cell_type": "code",
      "source": [
        ""
      ],
      "metadata": {
        "id": "PMdSU6l5tGNZ"
      },
      "execution_count": null,
      "outputs": []
    },
    {
      "cell_type": "markdown",
      "source": [
        "t-SNE"
      ],
      "metadata": {
        "id": "5GDlKo2XqI0l"
      }
    },
    {
      "cell_type": "code",
      "source": [
        "import numpy as np\n",
        "from sklearn.manifold import TSNE\n",
        "X_subcontsne = TSNE(n_components=2, learning_rate='auto',init='random').fit_transform(Xsubcon)\n",
        "X_subcontsne"
      ],
      "metadata": {
        "colab": {
          "base_uri": "https://localhost:8080/"
        },
        "id": "G_yLq6OPplIH",
        "outputId": "aa418cc7-5d0f-4ee5-9c01-fc5949e0c14e"
      },
      "execution_count": null,
      "outputs": [
        {
          "output_type": "execute_result",
          "data": {
            "text/plain": [
              "array([[-10.976257,  15.747041],\n",
              "       [-10.054186,  17.032047],\n",
              "       [-10.957252,  16.46069 ],\n",
              "       ...,\n",
              "       [-28.062431, -30.073862],\n",
              "       [-26.531483, -29.604027],\n",
              "       [-27.12402 , -29.215267]], dtype=float32)"
            ]
          },
          "metadata": {},
          "execution_count": 10
        }
      ]
    },
    {
      "cell_type": "code",
      "source": [
        "import matplotlib as plt\n",
        "import matplotlib.pyplot as plt\n",
        "\n",
        "fig, ax = plt.subplots()\n",
        "scatter = ax.scatter(X_subcontsne[:,0], X_subcontsne[:,1])\n",
        "fig=plt.figure(figsize=(500,100))\n",
        "\n",
        "# produce a legend with the unique colors from the scatter\n",
        "legend1 = ax.legend(*scatter.legend_elements(),\n",
        "                    loc=\"lower left\", title=\"Classes\")\n",
        "ax.add_artist(legend1)\n",
        "\n",
        "plt.show()"
      ],
      "metadata": {
        "colab": {
          "base_uri": "https://localhost:8080/",
          "height": 337
        },
        "id": "JIyJyD_sp8sR",
        "outputId": "76090779-567f-4bb9-f9c9-c2ee9fdfa834"
      },
      "execution_count": null,
      "outputs": [
        {
          "output_type": "stream",
          "name": "stderr",
          "text": [
            "/usr/local/lib/python3.7/dist-packages/matplotlib/collections.py:988: UserWarning: Collection without array used. Make sure to specify the values to be colormapped via the `c` argument.\n",
            "  warnings.warn(\"Collection without array used. Make sure to \"\n"
          ]
        },
        {
          "output_type": "display_data",
          "data": {
            "text/plain": [
              "<Figure size 432x288 with 1 Axes>"
            ],
            "image/png": "[encoded data removed]"
          },
          "metadata": {
            "needs_background": "light"
          }
        },
        {
          "output_type": "display_data",
          "data": {
            "text/plain": [
              "<Figure size 36000x7200 with 0 Axes>"
            ]
          },
          "metadata": {}
        }
      ]
    },
    {
      "cell_type": "code",
      "source": [
        "import numpy as np\n",
        "from sklearn.manifold import TSNE\n",
        "X_combinedtsne = TSNE(n_components=2, learning_rate='auto',init='random').fit_transform(Xcombined)"
      ],
      "metadata": {
        "id": "reiHVKh4rYtw"
      },
      "execution_count": null,
      "outputs": []
    },
    {
      "cell_type": "code",
      "source": [
        "import numpy as np\n",
        "from sklearn.manifold import TSNE\n",
        "X_combinedtsne = TSNE(n_components=2, learning_rate='auto',init='random').fit_transform(Xcombined)\n",
        "X_combinedtsne"
      ],
      "metadata": {
        "colab": {
          "base_uri": "https://localhost:8080/"
        },
        "id": "OrqWo9wjqN02",
        "outputId": "4bbc00da-e0cf-4be6-ae05-d4d05163f0f8"
      },
      "execution_count": null,
      "outputs": [
        {
          "output_type": "execute_result",
          "data": {
            "text/plain": [
              "array([[-13.3453665,  43.57606  ],\n",
              "       [ -7.556997 ,  42.659996 ],\n",
              "       [-17.195831 ,  45.012337 ],\n",
              "       ...,\n",
              "       [-80.19327  ,  -1.2424327],\n",
              "       [-75.92682  , -14.1241045],\n",
              "       [-80.226746 ,  -3.6165159]], dtype=float32)"
            ]
          },
          "metadata": {},
          "execution_count": 17
        }
      ]
    },
    {
      "cell_type": "code",
      "source": [
        "import matplotlib as plt\n",
        "import matplotlib.pyplot as plt\n",
        "\n",
        "fig, ax = plt.subplots()\n",
        "scatter = ax.scatter(X_combinedtsne[:,0], X_combinedtsne[:,1])\n",
        "fig=plt.figure(figsize=(500,100))\n",
        "\n",
        "# produce a legend with the unique colors from the scatter\n",
        "legend1 = ax.legend(*scatter.legend_elements(),\n",
        "                    loc=\"lower left\", title=\"Classes\")\n",
        "ax.add_artist(legend1)\n",
        "\n",
        "plt.show()"
      ],
      "metadata": {
        "colab": {
          "base_uri": "https://localhost:8080/",
          "height": 337
        },
        "id": "Qg20PIwnqN2i",
        "outputId": "eae0fe41-8e01-4589-f716-135d82958dfc"
      },
      "execution_count": null,
      "outputs": [
        {
          "output_type": "stream",
          "name": "stderr",
          "text": [
            "/usr/local/lib/python3.7/dist-packages/matplotlib/collections.py:988: UserWarning: Collection without array used. Make sure to specify the values to be colormapped via the `c` argument.\n",
            "  warnings.warn(\"Collection without array used. Make sure to \"\n"
          ]
        },
        {
          "output_type": "display_data",
          "data": {
            "text/plain": [
              "<Figure size 432x288 with 1 Axes>"
            ],
            "image/png": "[encoded data removed]"
          },
          "metadata": {
            "needs_background": "light"
          }
        },
        {
          "output_type": "display_data",
          "data": {
            "text/plain": [
              "<Figure size 36000x7200 with 0 Axes>"
            ]
          },
          "metadata": {}
        }
      ]
    },
    {
      "cell_type": "markdown",
      "source": [
        "Annotation"
      ],
      "metadata": {
        "id": "UVJhASpTsGt2"
      }
    },
    {
      "cell_type": "code",
      "source": [
        "import matplotlib.pyplot as plt\n",
        "plt.figure(figsize=(90,40))\n",
        "\n",
        "plt.gcf().set_size_inches((90, 20))    \n",
        "\n",
        "fig, ax = plt.subplots()\n",
        "ax.scatter(X_subcontsne[:,0], X_subcontsne[:,1])\n",
        "\n",
        "for i in range(len(dfsubcon)):\n",
        "  ax.annotate(dfsubcon['DNA sample ethnicity and id'][i], (X_subcontsne[:,0][i], X_subcontsne[:,1][i]))"
      ],
      "metadata": {
        "id": "9bfOEMnYsFRL"
      },
      "execution_count": null,
      "outputs": []
    },
    {
      "cell_type": "markdown",
      "source": [
        "Umap"
      ],
      "metadata": {
        "id": "F-levcA0rkGJ"
      }
    },
    {
      "cell_type": "code",
      "source": [
        "#Umap plot\n",
        "n_neighbors=2\n",
        "min_dist=0.1\n",
        "n_components=2\n",
        "metric='euclidean'\n",
        "\n",
        "fit = umap.UMAP(\n",
        "        n_neighbors=n_neighbors,\n",
        "        min_dist=min_dist,\n",
        "        n_components=n_components,\n",
        "        metric=metric\n",
        "    )\n",
        "usubcon = fit.fit_transform(Xsubcon)\n",
        "usubcon"
      ],
      "metadata": {
        "colab": {
          "base_uri": "https://localhost:8080/"
        },
        "id": "uVBIoHObrcEy",
        "outputId": "af2d549a-d0ab-497f-bf30-a2bdbbaa365d"
      },
      "execution_count": null,
      "outputs": [
        {
          "output_type": "stream",
          "name": "stderr",
          "text": [
            "/usr/local/lib/python3.7/dist-packages/numba/np/ufunc/parallel.py:363: NumbaWarning: The TBB threading layer requires TBB version 2019.5 or later i.e., TBB_INTERFACE_VERSION >= 11005. Found TBB_INTERFACE_VERSION = 9107. The TBB threading layer is disabled.\n",
            "  warnings.warn(problem)\n"
          ]
        },
        {
          "output_type": "execute_result",
          "data": {
            "text/plain": [
              "array([[14.419991 ,  1.6875517],\n",
              "       [ 9.560268 ,  1.8896335],\n",
              "       [ 8.541457 ,  2.8332803],\n",
              "       ...,\n",
              "       [-9.573466 ,  4.2680597],\n",
              "       [-9.464432 ,  4.057544 ],\n",
              "       [-9.246041 ,  4.2282577]], dtype=float32)"
            ]
          },
          "metadata": {},
          "execution_count": 19
        }
      ]
    },
    {
      "cell_type": "code",
      "source": [
        "import matplotlib as plt\n",
        "import matplotlib.pyplot as plt\n",
        "\n",
        "fig, ax = plt.subplots()\n",
        "scatter = ax.scatter(usubcon[:,0], usubcon[:,1])\n",
        "fig=plt.figure(figsize=(500,100))\n",
        "\n",
        "# produce a legend with the unique colors from the scatter\n",
        "legend1 = ax.legend(*scatter.legend_elements(),\n",
        "                    loc=\"lower left\", title=\"Classes\")\n",
        "ax.add_artist(legend1)\n",
        "\n",
        "# produce a legend with a cross section of sizes from the scatter\n",
        "#handles, labels = scatter.legend_elements(prop=\"sizes\", alpha=0.6)\n",
        "#legend2 = ax.legend(handles, labels, loc=\"upper right\", title=\"Sizes\")\n",
        "\n",
        "plt.show()"
      ],
      "metadata": {
        "colab": {
          "base_uri": "https://localhost:8080/",
          "height": 338
        },
        "id": "9C62Lc0crpfH",
        "outputId": "0e64a324-32d8-4599-f035-86aecb3e56b8"
      },
      "execution_count": null,
      "outputs": [
        {
          "output_type": "stream",
          "name": "stderr",
          "text": [
            "/usr/local/lib/python3.7/dist-packages/matplotlib/collections.py:988: UserWarning: Collection without array used. Make sure to specify the values to be colormapped via the `c` argument.\n",
            "  warnings.warn(\"Collection without array used. Make sure to \"\n"
          ]
        },
        {
          "output_type": "display_data",
          "data": {
            "text/plain": [
              "<Figure size 432x288 with 1 Axes>"
            ],
            "image/png": "[encoded data removed]"
          },
          "metadata": {
            "needs_background": "light"
          }
        },
        {
          "output_type": "display_data",
          "data": {
            "text/plain": [
              "<Figure size 36000x7200 with 0 Axes>"
            ]
          },
          "metadata": {}
        }
      ]
    },
    {
      "cell_type": "code",
      "source": [
        "#Umap plot\n",
        "n_neighbors=2\n",
        "min_dist=0.1\n",
        "n_components=2\n",
        "metric='euclidean'\n",
        "\n",
        "fit = umap.UMAP(\n",
        "        n_neighbors=n_neighbors,\n",
        "        min_dist=min_dist,\n",
        "        n_components=n_components,\n",
        "        metric=metric\n",
        "    )\n",
        "usubcon2 = fit.fit_transform(Xsubcon)\n",
        "usubcon2"
      ],
      "metadata": {
        "colab": {
          "base_uri": "https://localhost:8080/"
        },
        "id": "GTbMADm1US2G",
        "outputId": "621e43db-930b-4f5d-9955-d1e743fac0be"
      },
      "execution_count": null,
      "outputs": [
        {
          "output_type": "stream",
          "name": "stderr",
          "text": [
            "/usr/local/lib/python3.7/dist-packages/numba/np/ufunc/parallel.py:363: NumbaWarning: The TBB threading layer requires TBB version 2019.5 or later i.e., TBB_INTERFACE_VERSION >= 11005. Found TBB_INTERFACE_VERSION = 9107. The TBB threading layer is disabled.\n",
            "  warnings.warn(problem)\n"
          ]
        },
        {
          "output_type": "execute_result",
          "data": {
            "text/plain": [
              "array([[15.349142 ,  6.46542  ],\n",
              "       [ 7.526296 ,  2.4198194],\n",
              "       [11.668119 , 11.419674 ],\n",
              "       ...,\n",
              "       [-6.5277925,  1.0267645],\n",
              "       [-6.2771297,  1.1370327],\n",
              "       [-6.463443 ,  1.484159 ]], dtype=float32)"
            ]
          },
          "metadata": {},
          "execution_count": 8
        }
      ]
    },
    {
      "cell_type": "code",
      "source": [
        "#Umap plot\n",
        "n_neighbors=12\n",
        "min_dist=0.1\n",
        "n_components=2\n",
        "metric='euclidean'\n",
        "\n",
        "fit = umap.UMAP(\n",
        "        n_neighbors=n_neighbors,\n",
        "        min_dist=min_dist,\n",
        "        n_components=n_components,\n",
        "        metric=metric\n",
        "    )\n",
        "ucombined = fit.fit_transform(Xcombined)\n",
        "ucombined"
      ],
      "metadata": {
        "colab": {
          "base_uri": "https://localhost:8080/"
        },
        "id": "apYfTWrMrcGp",
        "outputId": "a74844b3-1fce-4c0d-b369-1f0aa9936fc0"
      },
      "execution_count": null,
      "outputs": [
        {
          "output_type": "execute_result",
          "data": {
            "text/plain": [
              "array([[ 4.89092  , 18.995163 ],\n",
              "       [ 5.011314 , 19.225101 ],\n",
              "       [ 5.2146254, 18.549927 ],\n",
              "       ...,\n",
              "       [-3.7891045, -3.1997783],\n",
              "       [-3.2535481, -4.0167017],\n",
              "       [-3.790426 , -2.9606204]], dtype=float32)"
            ]
          },
          "metadata": {},
          "execution_count": 29
        }
      ]
    },
    {
      "cell_type": "code",
      "source": [
        "p=usubcon2[0:10]\n",
        "test_embedding= fit.transform(p)\n",
        "test_embedding"
      ],
      "metadata": {
        "colab": {
          "base_uri": "https://localhost:8080/",
          "height": 450
        },
        "id": "KH9NIaQ1WGd5",
        "outputId": "2b5b2a31-2adf-4766-d06d-63395ef0cf41"
      },
      "execution_count": null,
      "outputs": [
        {
          "output_type": "error",
          "ename": "ValueError",
          "evalue": "ignored",
          "traceback": [
            "\u001b[0;31m---------------------------------------------------------------------------\u001b[0m",
            "\u001b[0;31mValueError\u001b[0m                                Traceback (most recent call last)",
            "\u001b[0;32m/usr/local/lib/python3.7/dist-packages/umap/umap_.py\u001b[0m in \u001b[0;36mtransform\u001b[0;34m(self, X)\u001b[0m\n\u001b[1;32m   2859\u001b[0m                 dmat = pairwise_distances(\n\u001b[0;32m-> 2860\u001b[0;31m                     \u001b[0mX\u001b[0m\u001b[0;34m,\u001b[0m \u001b[0mself\u001b[0m\u001b[0;34m.\u001b[0m\u001b[0m_raw_data\u001b[0m\u001b[0;34m,\u001b[0m \u001b[0mmetric\u001b[0m\u001b[0;34m=\u001b[0m\u001b[0m_m\u001b[0m\u001b[0;34m,\u001b[0m \u001b[0;34m**\u001b[0m\u001b[0mself\u001b[0m\u001b[0;34m.\u001b[0m\u001b[0m_metric_kwds\u001b[0m\u001b[0;34m\u001b[0m\u001b[0;34m\u001b[0m\u001b[0m\n\u001b[0m\u001b[1;32m   2861\u001b[0m                 )\n",
            "\u001b[0;32m/usr/local/lib/python3.7/dist-packages/sklearn/metrics/pairwise.py\u001b[0m in \u001b[0;36mpairwise_distances\u001b[0;34m(X, Y, metric, n_jobs, force_all_finite, **kwds)\u001b[0m\n\u001b[1;32m   1888\u001b[0m \u001b[0;34m\u001b[0m\u001b[0m\n\u001b[0;32m-> 1889\u001b[0;31m     \u001b[0;32mreturn\u001b[0m \u001b[0m_parallel_pairwise\u001b[0m\u001b[0;34m(\u001b[0m\u001b[0mX\u001b[0m\u001b[0;34m,\u001b[0m \u001b[0mY\u001b[0m\u001b[0;34m,\u001b[0m \u001b[0mfunc\u001b[0m\u001b[0;34m,\u001b[0m \u001b[0mn_jobs\u001b[0m\u001b[0;34m,\u001b[0m \u001b[0;34m**\u001b[0m\u001b[0mkwds\u001b[0m\u001b[0;34m)\u001b[0m\u001b[0;34m\u001b[0m\u001b[0;34m\u001b[0m\u001b[0m\n\u001b[0m\u001b[1;32m   1890\u001b[0m \u001b[0;34m\u001b[0m\u001b[0m\n",
            "\u001b[0;32m/usr/local/lib/python3.7/dist-packages/sklearn/metrics/pairwise.py\u001b[0m in \u001b[0;36m_parallel_pairwise\u001b[0;34m(X, Y, func, n_jobs, **kwds)\u001b[0m\n\u001b[1;32m   1429\u001b[0m     \u001b[0;32mif\u001b[0m \u001b[0meffective_n_jobs\u001b[0m\u001b[0;34m(\u001b[0m\u001b[0mn_jobs\u001b[0m\u001b[0;34m)\u001b[0m \u001b[0;34m==\u001b[0m \u001b[0;36m1\u001b[0m\u001b[0;34m:\u001b[0m\u001b[0;34m\u001b[0m\u001b[0;34m\u001b[0m\u001b[0m\n\u001b[0;32m-> 1430\u001b[0;31m         \u001b[0;32mreturn\u001b[0m \u001b[0mfunc\u001b[0m\u001b[0;34m(\u001b[0m\u001b[0mX\u001b[0m\u001b[0;34m,\u001b[0m \u001b[0mY\u001b[0m\u001b[0;34m,\u001b[0m \u001b[0;34m**\u001b[0m\u001b[0mkwds\u001b[0m\u001b[0;34m)\u001b[0m\u001b[0;34m\u001b[0m\u001b[0;34m\u001b[0m\u001b[0m\n\u001b[0m\u001b[1;32m   1431\u001b[0m \u001b[0;34m\u001b[0m\u001b[0m\n",
            "\u001b[0;32m/usr/local/lib/python3.7/dist-packages/sklearn/metrics/pairwise.py\u001b[0m in \u001b[0;36m_pairwise_callable\u001b[0;34m(X, Y, metric, force_all_finite, **kwds)\u001b[0m\n\u001b[1;32m   1449\u001b[0m     \u001b[0;34m\"\"\"Handle the callable case for pairwise_{distances,kernels}.\"\"\"\u001b[0m\u001b[0;34m\u001b[0m\u001b[0;34m\u001b[0m\u001b[0m\n\u001b[0;32m-> 1450\u001b[0;31m     \u001b[0mX\u001b[0m\u001b[0;34m,\u001b[0m \u001b[0mY\u001b[0m \u001b[0;34m=\u001b[0m \u001b[0mcheck_pairwise_arrays\u001b[0m\u001b[0;34m(\u001b[0m\u001b[0mX\u001b[0m\u001b[0;34m,\u001b[0m \u001b[0mY\u001b[0m\u001b[0;34m,\u001b[0m \u001b[0mforce_all_finite\u001b[0m\u001b[0;34m=\u001b[0m\u001b[0mforce_all_finite\u001b[0m\u001b[0;34m)\u001b[0m\u001b[0;34m\u001b[0m\u001b[0;34m\u001b[0m\u001b[0m\n\u001b[0m\u001b[1;32m   1451\u001b[0m \u001b[0;34m\u001b[0m\u001b[0m\n",
            "\u001b[0;32m/usr/local/lib/python3.7/dist-packages/sklearn/metrics/pairwise.py\u001b[0m in \u001b[0;36mcheck_pairwise_arrays\u001b[0;34m(X, Y, precomputed, dtype, accept_sparse, force_all_finite, copy)\u001b[0m\n\u001b[1;32m    182\u001b[0m             \u001b[0;34m\"Incompatible dimension for X and Y matrices: \"\u001b[0m\u001b[0;34m\u001b[0m\u001b[0;34m\u001b[0m\u001b[0m\n\u001b[0;32m--> 183\u001b[0;31m             \u001b[0;34m\"X.shape[1] == %d while Y.shape[1] == %d\"\u001b[0m \u001b[0;34m%\u001b[0m \u001b[0;34m(\u001b[0m\u001b[0mX\u001b[0m\u001b[0;34m.\u001b[0m\u001b[0mshape\u001b[0m\u001b[0;34m[\u001b[0m\u001b[0;36m1\u001b[0m\u001b[0;34m]\u001b[0m\u001b[0;34m,\u001b[0m \u001b[0mY\u001b[0m\u001b[0;34m.\u001b[0m\u001b[0mshape\u001b[0m\u001b[0;34m[\u001b[0m\u001b[0;36m1\u001b[0m\u001b[0;34m]\u001b[0m\u001b[0;34m)\u001b[0m\u001b[0;34m\u001b[0m\u001b[0;34m\u001b[0m\u001b[0m\n\u001b[0m\u001b[1;32m    184\u001b[0m         )\n",
            "\u001b[0;31mValueError\u001b[0m: Incompatible dimension for X and Y matrices: X.shape[1] == 2 while Y.shape[1] == 25",
            "\nDuring handling of the above exception, another exception occurred:\n",
            "\u001b[0;31mValueError\u001b[0m                                Traceback (most recent call last)",
            "\u001b[0;32m<ipython-input-23-a30ae4839384>\u001b[0m in \u001b[0;36m<module>\u001b[0;34m()\u001b[0m\n\u001b[1;32m      1\u001b[0m \u001b[0mp\u001b[0m\u001b[0;34m=\u001b[0m\u001b[0musubcon2\u001b[0m\u001b[0;34m[\u001b[0m\u001b[0;36m0\u001b[0m\u001b[0;34m:\u001b[0m\u001b[0;36m10\u001b[0m\u001b[0;34m]\u001b[0m\u001b[0;34m\u001b[0m\u001b[0;34m\u001b[0m\u001b[0m\n\u001b[0;32m----> 2\u001b[0;31m \u001b[0mtest_embedding\u001b[0m\u001b[0;34m=\u001b[0m \u001b[0mfit\u001b[0m\u001b[0;34m.\u001b[0m\u001b[0mtransform\u001b[0m\u001b[0;34m(\u001b[0m\u001b[0mp\u001b[0m\u001b[0;34m)\u001b[0m\u001b[0;34m\u001b[0m\u001b[0;34m\u001b[0m\u001b[0m\n\u001b[0m\u001b[1;32m      3\u001b[0m \u001b[0mtest_embedding\u001b[0m\u001b[0;34m\u001b[0m\u001b[0;34m\u001b[0m\u001b[0m\n",
            "\u001b[0;32m/usr/local/lib/python3.7/dist-packages/umap/umap_.py\u001b[0m in \u001b[0;36mtransform\u001b[0;34m(self, X)\u001b[0m\n\u001b[1;32m   2885\u001b[0m                         \u001b[0mself\u001b[0m\u001b[0;34m.\u001b[0m\u001b[0m_raw_data\u001b[0m\u001b[0;34m,\u001b[0m\u001b[0;34m\u001b[0m\u001b[0;34m\u001b[0m\u001b[0m\n\u001b[1;32m   2886\u001b[0m                         \u001b[0mmetric\u001b[0m\u001b[0;34m=\u001b[0m\u001b[0mself\u001b[0m\u001b[0;34m.\u001b[0m\u001b[0m_input_distance_func\u001b[0m\u001b[0;34m,\u001b[0m\u001b[0;34m\u001b[0m\u001b[0;34m\u001b[0m\u001b[0m\n\u001b[0;32m-> 2887\u001b[0;31m                         \u001b[0mkwds\u001b[0m\u001b[0;34m=\u001b[0m\u001b[0mself\u001b[0m\u001b[0;34m.\u001b[0m\u001b[0m_metric_kwds\u001b[0m\u001b[0;34m,\u001b[0m\u001b[0;34m\u001b[0m\u001b[0;34m\u001b[0m\u001b[0m\n\u001b[0m\u001b[1;32m   2888\u001b[0m                     )\n\u001b[1;32m   2889\u001b[0m             \u001b[0mindices\u001b[0m \u001b[0;34m=\u001b[0m \u001b[0mnp\u001b[0m\u001b[0;34m.\u001b[0m\u001b[0margpartition\u001b[0m\u001b[0;34m(\u001b[0m\u001b[0mdmat\u001b[0m\u001b[0;34m,\u001b[0m \u001b[0mself\u001b[0m\u001b[0;34m.\u001b[0m\u001b[0m_n_neighbors\u001b[0m\u001b[0;34m)\u001b[0m\u001b[0;34m[\u001b[0m\u001b[0;34m:\u001b[0m\u001b[0;34m,\u001b[0m \u001b[0;34m:\u001b[0m \u001b[0mself\u001b[0m\u001b[0;34m.\u001b[0m\u001b[0m_n_neighbors\u001b[0m\u001b[0;34m]\u001b[0m\u001b[0;34m\u001b[0m\u001b[0;34m\u001b[0m\u001b[0m\n",
            "\u001b[0;32m/usr/local/lib/python3.7/dist-packages/umap/distances.py\u001b[0m in \u001b[0;36mpairwise_special_metric\u001b[0;34m(X, Y, metric, kwds)\u001b[0m\n\u001b[1;32m   1295\u001b[0m             \u001b[0;32mreturn\u001b[0m \u001b[0mmetric\u001b[0m\u001b[0;34m(\u001b[0m\u001b[0m_X\u001b[0m\u001b[0;34m,\u001b[0m \u001b[0m_Y\u001b[0m\u001b[0;34m,\u001b[0m \u001b[0;34m*\u001b[0m\u001b[0mkwd_vals\u001b[0m\u001b[0;34m)\u001b[0m\u001b[0;34m\u001b[0m\u001b[0;34m\u001b[0m\u001b[0m\n\u001b[1;32m   1296\u001b[0m \u001b[0;34m\u001b[0m\u001b[0m\n\u001b[0;32m-> 1297\u001b[0;31m         \u001b[0;32mreturn\u001b[0m \u001b[0mpairwise_distances\u001b[0m\u001b[0;34m(\u001b[0m\u001b[0mX\u001b[0m\u001b[0;34m,\u001b[0m \u001b[0mY\u001b[0m\u001b[0;34m,\u001b[0m \u001b[0mmetric\u001b[0m\u001b[0;34m=\u001b[0m\u001b[0m_partial_metric\u001b[0m\u001b[0;34m)\u001b[0m\u001b[0;34m\u001b[0m\u001b[0;34m\u001b[0m\u001b[0m\n\u001b[0m\u001b[1;32m   1298\u001b[0m     \u001b[0;32melse\u001b[0m\u001b[0;34m:\u001b[0m\u001b[0;34m\u001b[0m\u001b[0;34m\u001b[0m\u001b[0m\n\u001b[1;32m   1299\u001b[0m         \u001b[0mspecial_metric_func\u001b[0m \u001b[0;34m=\u001b[0m \u001b[0mnamed_distances\u001b[0m\u001b[0;34m[\u001b[0m\u001b[0mmetric\u001b[0m\u001b[0;34m]\u001b[0m\u001b[0;34m\u001b[0m\u001b[0;34m\u001b[0m\u001b[0m\n",
            "\u001b[0;32m/usr/local/lib/python3.7/dist-packages/sklearn/metrics/pairwise.py\u001b[0m in \u001b[0;36mpairwise_distances\u001b[0;34m(X, Y, metric, n_jobs, force_all_finite, **kwds)\u001b[0m\n\u001b[1;32m   1887\u001b[0m         \u001b[0mfunc\u001b[0m \u001b[0;34m=\u001b[0m \u001b[0mpartial\u001b[0m\u001b[0;34m(\u001b[0m\u001b[0mdistance\u001b[0m\u001b[0;34m.\u001b[0m\u001b[0mcdist\u001b[0m\u001b[0;34m,\u001b[0m \u001b[0mmetric\u001b[0m\u001b[0;34m=\u001b[0m\u001b[0mmetric\u001b[0m\u001b[0;34m,\u001b[0m \u001b[0;34m**\u001b[0m\u001b[0mkwds\u001b[0m\u001b[0;34m)\u001b[0m\u001b[0;34m\u001b[0m\u001b[0;34m\u001b[0m\u001b[0m\n\u001b[1;32m   1888\u001b[0m \u001b[0;34m\u001b[0m\u001b[0m\n\u001b[0;32m-> 1889\u001b[0;31m     \u001b[0;32mreturn\u001b[0m \u001b[0m_parallel_pairwise\u001b[0m\u001b[0;34m(\u001b[0m\u001b[0mX\u001b[0m\u001b[0;34m,\u001b[0m \u001b[0mY\u001b[0m\u001b[0;34m,\u001b[0m \u001b[0mfunc\u001b[0m\u001b[0;34m,\u001b[0m \u001b[0mn_jobs\u001b[0m\u001b[0;34m,\u001b[0m \u001b[0;34m**\u001b[0m\u001b[0mkwds\u001b[0m\u001b[0;34m)\u001b[0m\u001b[0;34m\u001b[0m\u001b[0;34m\u001b[0m\u001b[0m\n\u001b[0m\u001b[1;32m   1890\u001b[0m \u001b[0;34m\u001b[0m\u001b[0m\n\u001b[1;32m   1891\u001b[0m \u001b[0;34m\u001b[0m\u001b[0m\n",
            "\u001b[0;32m/usr/local/lib/python3.7/dist-packages/sklearn/metrics/pairwise.py\u001b[0m in \u001b[0;36m_parallel_pairwise\u001b[0;34m(X, Y, func, n_jobs, **kwds)\u001b[0m\n\u001b[1;32m   1428\u001b[0m \u001b[0;34m\u001b[0m\u001b[0m\n\u001b[1;32m   1429\u001b[0m     \u001b[0;32mif\u001b[0m \u001b[0meffective_n_jobs\u001b[0m\u001b[0;34m(\u001b[0m\u001b[0mn_jobs\u001b[0m\u001b[0;34m)\u001b[0m \u001b[0;34m==\u001b[0m \u001b[0;36m1\u001b[0m\u001b[0;34m:\u001b[0m\u001b[0;34m\u001b[0m\u001b[0;34m\u001b[0m\u001b[0m\n\u001b[0;32m-> 1430\u001b[0;31m         \u001b[0;32mreturn\u001b[0m \u001b[0mfunc\u001b[0m\u001b[0;34m(\u001b[0m\u001b[0mX\u001b[0m\u001b[0;34m,\u001b[0m \u001b[0mY\u001b[0m\u001b[0;34m,\u001b[0m \u001b[0;34m**\u001b[0m\u001b[0mkwds\u001b[0m\u001b[0;34m)\u001b[0m\u001b[0;34m\u001b[0m\u001b[0;34m\u001b[0m\u001b[0m\n\u001b[0m\u001b[1;32m   1431\u001b[0m \u001b[0;34m\u001b[0m\u001b[0m\n\u001b[1;32m   1432\u001b[0m     \u001b[0;31m# enforce a threading backend to prevent data communication overhead\u001b[0m\u001b[0;34m\u001b[0m\u001b[0;34m\u001b[0m\u001b[0;34m\u001b[0m\u001b[0m\n",
            "\u001b[0;32m/usr/local/lib/python3.7/dist-packages/sklearn/metrics/pairwise.py\u001b[0m in \u001b[0;36m_pairwise_callable\u001b[0;34m(X, Y, metric, force_all_finite, **kwds)\u001b[0m\n\u001b[1;32m   1448\u001b[0m \u001b[0;32mdef\u001b[0m \u001b[0m_pairwise_callable\u001b[0m\u001b[0;34m(\u001b[0m\u001b[0mX\u001b[0m\u001b[0;34m,\u001b[0m \u001b[0mY\u001b[0m\u001b[0;34m,\u001b[0m \u001b[0mmetric\u001b[0m\u001b[0;34m,\u001b[0m \u001b[0mforce_all_finite\u001b[0m\u001b[0;34m=\u001b[0m\u001b[0;32mTrue\u001b[0m\u001b[0;34m,\u001b[0m \u001b[0;34m**\u001b[0m\u001b[0mkwds\u001b[0m\u001b[0;34m)\u001b[0m\u001b[0;34m:\u001b[0m\u001b[0;34m\u001b[0m\u001b[0;34m\u001b[0m\u001b[0m\n\u001b[1;32m   1449\u001b[0m     \u001b[0;34m\"\"\"Handle the callable case for pairwise_{distances,kernels}.\"\"\"\u001b[0m\u001b[0;34m\u001b[0m\u001b[0;34m\u001b[0m\u001b[0m\n\u001b[0;32m-> 1450\u001b[0;31m     \u001b[0mX\u001b[0m\u001b[0;34m,\u001b[0m \u001b[0mY\u001b[0m \u001b[0;34m=\u001b[0m \u001b[0mcheck_pairwise_arrays\u001b[0m\u001b[0;34m(\u001b[0m\u001b[0mX\u001b[0m\u001b[0;34m,\u001b[0m \u001b[0mY\u001b[0m\u001b[0;34m,\u001b[0m \u001b[0mforce_all_finite\u001b[0m\u001b[0;34m=\u001b[0m\u001b[0mforce_all_finite\u001b[0m\u001b[0;34m)\u001b[0m\u001b[0;34m\u001b[0m\u001b[0;34m\u001b[0m\u001b[0m\n\u001b[0m\u001b[1;32m   1451\u001b[0m \u001b[0;34m\u001b[0m\u001b[0m\n\u001b[1;32m   1452\u001b[0m     \u001b[0;32mif\u001b[0m \u001b[0mX\u001b[0m \u001b[0;32mis\u001b[0m \u001b[0mY\u001b[0m\u001b[0;34m:\u001b[0m\u001b[0;34m\u001b[0m\u001b[0;34m\u001b[0m\u001b[0m\n",
            "\u001b[0;32m/usr/local/lib/python3.7/dist-packages/sklearn/metrics/pairwise.py\u001b[0m in \u001b[0;36mcheck_pairwise_arrays\u001b[0;34m(X, Y, precomputed, dtype, accept_sparse, force_all_finite, copy)\u001b[0m\n\u001b[1;32m    181\u001b[0m         raise ValueError(\n\u001b[1;32m    182\u001b[0m             \u001b[0;34m\"Incompatible dimension for X and Y matrices: \"\u001b[0m\u001b[0;34m\u001b[0m\u001b[0;34m\u001b[0m\u001b[0m\n\u001b[0;32m--> 183\u001b[0;31m             \u001b[0;34m\"X.shape[1] == %d while Y.shape[1] == %d\"\u001b[0m \u001b[0;34m%\u001b[0m \u001b[0;34m(\u001b[0m\u001b[0mX\u001b[0m\u001b[0;34m.\u001b[0m\u001b[0mshape\u001b[0m\u001b[0;34m[\u001b[0m\u001b[0;36m1\u001b[0m\u001b[0;34m]\u001b[0m\u001b[0;34m,\u001b[0m \u001b[0mY\u001b[0m\u001b[0;34m.\u001b[0m\u001b[0mshape\u001b[0m\u001b[0;34m[\u001b[0m\u001b[0;36m1\u001b[0m\u001b[0;34m]\u001b[0m\u001b[0;34m)\u001b[0m\u001b[0;34m\u001b[0m\u001b[0;34m\u001b[0m\u001b[0m\n\u001b[0m\u001b[1;32m    184\u001b[0m         )\n\u001b[1;32m    185\u001b[0m \u001b[0;34m\u001b[0m\u001b[0m\n",
            "\u001b[0;31mValueError\u001b[0m: Incompatible dimension for X and Y matrices: X.shape[1] == 2 while Y.shape[1] == 25"
          ]
        }
      ]
    },
    {
      "cell_type": "code",
      "source": [
        "import matplotlib as plt\n",
        "import matplotlib.pyplot as plt\n",
        "\n",
        "fig, ax = plt.subplots()\n",
        "scatter = ax.scatter(ucombined[:,0], ucombined[:,1])\n",
        "fig=plt.figure(figsize=(500,100))\n",
        "\n",
        "# produce a legend with the unique colors from the scatter\n",
        "legend1 = ax.legend(*scatter.legend_elements(),\n",
        "                    loc=\"lower left\", title=\"Classes\")\n",
        "ax.add_artist(legend1)\n",
        "\n",
        "# produce a legend with a cross section of sizes from the scatter\n",
        "#handles, labels = scatter.legend_elements(prop=\"sizes\", alpha=0.6)\n",
        "#legend2 = ax.legend(handles, labels, loc=\"upper right\", title=\"Sizes\")\n",
        "\n",
        "plt.show()"
      ],
      "metadata": {
        "colab": {
          "base_uri": "https://localhost:8080/",
          "height": 337
        },
        "id": "C_TjpE38rp7-",
        "outputId": "c92d17c6-72f0-4bff-dfba-6519a381bbab"
      },
      "execution_count": null,
      "outputs": [
        {
          "output_type": "stream",
          "name": "stderr",
          "text": [
            "/usr/local/lib/python3.7/dist-packages/matplotlib/collections.py:988: UserWarning: Collection without array used. Make sure to specify the values to be colormapped via the `c` argument.\n",
            "  warnings.warn(\"Collection without array used. Make sure to \"\n"
          ]
        },
        {
          "output_type": "display_data",
          "data": {
            "text/plain": [
              "<Figure size 432x288 with 1 Axes>"
            ],
            "image/png": "[encoded data removed]"
          },
          "metadata": {
            "needs_background": "light"
          }
        },
        {
          "output_type": "display_data",
          "data": {
            "text/plain": [
              "<Figure size 36000x7200 with 0 Axes>"
            ]
          },
          "metadata": {}
        }
      ]
    },
    {
      "cell_type": "code",
      "source": [
        ""
      ],
      "metadata": {
        "id": "PRDWQLMXsMeF"
      },
      "execution_count": null,
      "outputs": []
    },
    {
      "cell_type": "markdown",
      "source": [
        "Distance Tool"
      ],
      "metadata": {
        "id": "hkEMPUZPuAOw"
      }
    },
    {
      "cell_type": "code",
      "source": [
        "def euclidean_distance(p, q):\n",
        "    n = 25 # dimensions\n",
        "    return sum([(p[i] - q[i]) ** 2 for i in range(n)]) ** 0.5"
      ],
      "metadata": {
        "id": "LpRzCMpdsMk1"
      },
      "execution_count": null,
      "outputs": []
    },
    {
      "cell_type": "code",
      "source": [
        "p=Xcombined.iloc[735:740]\n",
        "p"
      ],
      "metadata": {
        "colab": {
          "base_uri": "https://localhost:8080/",
          "height": 300
        },
        "id": "Q0Zc1mIquDP9",
        "outputId": "8baa3423-65ff-4c02-a342-2604533f976f"
      },
      "execution_count": null,
      "outputs": [
        {
          "output_type": "execute_result",
          "data": {
            "text/plain": [
              "            1         2         3         4         5         6         7  \\\n",
              "735  0.069432  0.048745 -0.104462  0.029716 -0.069244  0.025100  0.004230   \n",
              "736  0.071709  0.039606 -0.099183  0.031977 -0.084016  0.029562  0.001175   \n",
              "737  0.072847  0.051792 -0.104462  0.030685 -0.072013  0.035419  0.008930   \n",
              "738  0.073985  0.052808 -0.101068  0.025840 -0.064012  0.027889  0.006345   \n",
              "739  0.077400  0.048745 -0.099937  0.027778 -0.075399  0.034304  0.009870   \n",
              "\n",
              "            8         9        10  ...        16        17        18  \\\n",
              "735  0.002308 -0.022498 -0.021139  ...  0.031556 -0.001956  0.007475   \n",
              "736  0.003461 -0.018612 -0.018224  ...  0.033147 -0.014212  0.010769   \n",
              "737  0.001615 -0.020861 -0.014761  ...  0.030230 -0.013560  0.004307   \n",
              "738  0.008769 -0.020452 -0.021686  ...  0.029965 -0.013430  0.003294   \n",
              "739  0.001615 -0.027406 -0.020775  ...  0.029435 -0.009518  0.002660   \n",
              "\n",
              "           19        20        21        22        23        24        25  \n",
              "735  0.012821 -0.023386 -0.002870 -0.016693  0.002095 -0.017834  0.011855  \n",
              "736  0.010433 -0.026012  0.000873 -0.016693 -0.003081 -0.017834  0.012454  \n",
              "737  0.008170 -0.034892 -0.002121 -0.013973 -0.000493 -0.008435  0.017962  \n",
              "738  0.006536 -0.029389 -0.002371 -0.015457  0.003697 -0.016629  0.011616  \n",
              "739  0.006411 -0.025262 -0.004367 -0.014467 -0.002835 -0.020364  0.011735  \n",
              "\n",
              "[5 rows x 25 columns]"
            ],
            "text/html": [
              "\n",
              "  <div id=\"df-b56f55a8-4963-4606-b5b7-ecc55f980dca\">\n",
              "    <div class=\"colab-df-container\">\n",
              "      <div>\n",
              "<style scoped>\n",
              "    .dataframe tbody tr th:only-of-type {\n",
              "        vertical-align: middle;\n",
              "    }\n",
              "\n",
              "    .dataframe tbody tr th {\n",
              "        vertical-align: top;\n",
              "    }\n",
              "\n",
              "    .dataframe thead th {\n",
              "        text-align: right;\n",
              "    }\n",
              "</style>\n",
              "<table border=\"1\" class=\"dataframe\">\n",
              "  <thead>\n",
              "    <tr style=\"text-align: right;\">\n",
              "      <th></th>\n",
              "      <th>1</th>\n",
              "      <th>2</th>\n",
              "      <th>3</th>\n",
              "      <th>4</th>\n",
              "      <th>5</th>\n",
              "      <th>6</th>\n",
              "      <th>7</th>\n",
              "      <th>8</th>\n",
              "      <th>9</th>\n",
              "      <th>10</th>\n",
              "      <th>...</th>\n",
              "      <th>16</th>\n",
              "      <th>17</th>\n",
              "      <th>18</th>\n",
              "      <th>19</th>\n",
              "      <th>20</th>\n",
              "      <th>21</th>\n",
              "      <th>22</th>\n",
              "      <th>23</th>\n",
              "      <th>24</th>\n",
              "      <th>25</th>\n",
              "    </tr>\n",
              "  </thead>\n",
              "  <tbody>\n",
              "    <tr>\n",
              "      <th>735</th>\n",
              "      <td>0.069432</td>\n",
              "      <td>0.048745</td>\n",
              "      <td>-0.104462</td>\n",
              "      <td>0.029716</td>\n",
              "      <td>-0.069244</td>\n",
              "      <td>0.025100</td>\n",
              "      <td>0.004230</td>\n",
              "      <td>0.002308</td>\n",
              "      <td>-0.022498</td>\n",
              "      <td>-0.021139</td>\n",
              "      <td>...</td>\n",
              "      <td>0.031556</td>\n",
              "      <td>-0.001956</td>\n",
              "      <td>0.007475</td>\n",
              "      <td>0.012821</td>\n",
              "      <td>-0.023386</td>\n",
              "      <td>-0.002870</td>\n",
              "      <td>-0.016693</td>\n",
              "      <td>0.002095</td>\n",
              "      <td>-0.017834</td>\n",
              "      <td>0.011855</td>\n",
              "    </tr>\n",
              "    <tr>\n",
              "      <th>736</th>\n",
              "      <td>0.071709</td>\n",
              "      <td>0.039606</td>\n",
              "      <td>-0.099183</td>\n",
              "      <td>0.031977</td>\n",
              "      <td>-0.084016</td>\n",
              "      <td>0.029562</td>\n",
              "      <td>0.001175</td>\n",
              "      <td>0.003461</td>\n",
              "      <td>-0.018612</td>\n",
              "      <td>-0.018224</td>\n",
              "      <td>...</td>\n",
              "      <td>0.033147</td>\n",
              "      <td>-0.014212</td>\n",
              "      <td>0.010769</td>\n",
              "      <td>0.010433</td>\n",
              "      <td>-0.026012</td>\n",
              "      <td>0.000873</td>\n",
              "      <td>-0.016693</td>\n",
              "      <td>-0.003081</td>\n",
              "      <td>-0.017834</td>\n",
              "      <td>0.012454</td>\n",
              "    </tr>\n",
              "    <tr>\n",
              "      <th>737</th>\n",
              "      <td>0.072847</td>\n",
              "      <td>0.051792</td>\n",
              "      <td>-0.104462</td>\n",
              "      <td>0.030685</td>\n",
              "      <td>-0.072013</td>\n",
              "      <td>0.035419</td>\n",
              "      <td>0.008930</td>\n",
              "      <td>0.001615</td>\n",
              "      <td>-0.020861</td>\n",
              "      <td>-0.014761</td>\n",
              "      <td>...</td>\n",
              "      <td>0.030230</td>\n",
              "      <td>-0.013560</td>\n",
              "      <td>0.004307</td>\n",
              "      <td>0.008170</td>\n",
              "      <td>-0.034892</td>\n",
              "      <td>-0.002121</td>\n",
              "      <td>-0.013973</td>\n",
              "      <td>-0.000493</td>\n",
              "      <td>-0.008435</td>\n",
              "      <td>0.017962</td>\n",
              "    </tr>\n",
              "    <tr>\n",
              "      <th>738</th>\n",
              "      <td>0.073985</td>\n",
              "      <td>0.052808</td>\n",
              "      <td>-0.101068</td>\n",
              "      <td>0.025840</td>\n",
              "      <td>-0.064012</td>\n",
              "      <td>0.027889</td>\n",
              "      <td>0.006345</td>\n",
              "      <td>0.008769</td>\n",
              "      <td>-0.020452</td>\n",
              "      <td>-0.021686</td>\n",
              "      <td>...</td>\n",
              "      <td>0.029965</td>\n",
              "      <td>-0.013430</td>\n",
              "      <td>0.003294</td>\n",
              "      <td>0.006536</td>\n",
              "      <td>-0.029389</td>\n",
              "      <td>-0.002371</td>\n",
              "      <td>-0.015457</td>\n",
              "      <td>0.003697</td>\n",
              "      <td>-0.016629</td>\n",
              "      <td>0.011616</td>\n",
              "    </tr>\n",
              "    <tr>\n",
              "      <th>739</th>\n",
              "      <td>0.077400</td>\n",
              "      <td>0.048745</td>\n",
              "      <td>-0.099937</td>\n",
              "      <td>0.027778</td>\n",
              "      <td>-0.075399</td>\n",
              "      <td>0.034304</td>\n",
              "      <td>0.009870</td>\n",
              "      <td>0.001615</td>\n",
              "      <td>-0.027406</td>\n",
              "      <td>-0.020775</td>\n",
              "      <td>...</td>\n",
              "      <td>0.029435</td>\n",
              "      <td>-0.009518</td>\n",
              "      <td>0.002660</td>\n",
              "      <td>0.006411</td>\n",
              "      <td>-0.025262</td>\n",
              "      <td>-0.004367</td>\n",
              "      <td>-0.014467</td>\n",
              "      <td>-0.002835</td>\n",
              "      <td>-0.020364</td>\n",
              "      <td>0.011735</td>\n",
              "    </tr>\n",
              "  </tbody>\n",
              "</table>\n",
              "<p>5 rows × 25 columns</p>\n",
              "</div>\n",
              "      <button class=\"colab-df-convert\" onclick=\"convertToInteractive('df-b56f55a8-4963-4606-b5b7-ecc55f980dca')\"\n",
              "              title=\"Convert this dataframe to an interactive table.\"\n",
              "              style=\"display:none;\">\n",
              "        \n",
              "  <svg xmlns=\"http://www.w3.org/2000/svg\" height=\"24px\"viewBox=\"0 0 24 24\"\n",
              "       width=\"24px\">\n",
              "    <path d=\"M0 0h24v24H0V0z\" fill=\"none\"/>\n",
              "    <path d=\"M18.56 5.44l.94 2.06.94-2.06 2.06-.94-2.06-.94-.94-2.06-.94 2.06-2.06.94zm-11 1L8.5 8.5l.94-2.06 2.06-.94-2.06-.94L8.5 2.5l-.94 2.06-2.06.94zm10 10l.94 2.06.94-2.06 2.06-.94-2.06-.94-.94-2.06-.94 2.06-2.06.94z\"/><path d=\"M17.41 7.96l-1.37-1.37c-.4-.4-.92-.59-1.43-.59-.52 0-1.04.2-1.43.59L10.3 9.45l-7.72 7.72c-.78.78-.78 2.05 0 2.83L4 21.41c.39.39.9.59 1.41.59.51 0 1.02-.2 1.41-.59l7.78-7.78 2.81-2.81c.8-.78.8-2.07 0-2.86zM5.41 20L4 18.59l7.72-7.72 1.47 1.35L5.41 20z\"/>\n",
              "  </svg>\n",
              "      </button>\n",
              "      \n",
              "  <style>\n",
              "    .colab-df-container {\n",
              "      display:flex;\n",
              "      flex-wrap:wrap;\n",
              "      gap: 12px;\n",
              "    }\n",
              "\n",
              "    .colab-df-convert {\n",
              "      background-color: #E8F0FE;\n",
              "      border: none;\n",
              "      border-radius: 50%;\n",
              "      cursor: pointer;\n",
              "      display: none;\n",
              "      fill: #1967D2;\n",
              "      height: 32px;\n",
              "      padding: 0 0 0 0;\n",
              "      width: 32px;\n",
              "    }\n",
              "\n",
              "    .colab-df-convert:hover {\n",
              "      background-color: #E2EBFA;\n",
              "      box-shadow: 0px 1px 2px rgba(60, 64, 67, 0.3), 0px 1px 3px 1px rgba(60, 64, 67, 0.15);\n",
              "      fill: #174EA6;\n",
              "    }\n",
              "\n",
              "    [theme=dark] .colab-df-convert {\n",
              "      background-color: #3B4455;\n",
              "      fill: #D2E3FC;\n",
              "    }\n",
              "\n",
              "    [theme=dark] .colab-df-convert:hover {\n",
              "      background-color: #434B5C;\n",
              "      box-shadow: 0px 1px 3px 1px rgba(0, 0, 0, 0.15);\n",
              "      filter: drop-shadow(0px 1px 2px rgba(0, 0, 0, 0.3));\n",
              "      fill: #FFFFFF;\n",
              "    }\n",
              "  </style>\n",
              "\n",
              "      <script>\n",
              "        const buttonEl =\n",
              "          document.querySelector('#df-b56f55a8-4963-4606-b5b7-ecc55f980dca button.colab-df-convert');\n",
              "        buttonEl.style.display =\n",
              "          google.colab.kernel.accessAllowed ? 'block' : 'none';\n",
              "\n",
              "        async function convertToInteractive(key) {\n",
              "          const element = document.querySelector('#df-b56f55a8-4963-4606-b5b7-ecc55f980dca');\n",
              "          const dataTable =\n",
              "            await google.colab.kernel.invokeFunction('convertToInteractive',\n",
              "                                                     [key], {});\n",
              "          if (!dataTable) return;\n",
              "\n",
              "          const docLinkHtml = 'Like what you see? Visit the ' +\n",
              "            '<a target=\"_blank\" href=https://colab.research.google.com/notebooks/data_table.ipynb>data table notebook</a>'\n",
              "            + ' to learn more about interactive tables.';\n",
              "          element.innerHTML = '';\n",
              "          dataTable['output_type'] = 'display_data';\n",
              "          await google.colab.output.renderOutput(dataTable, element);\n",
              "          const docLink = document.createElement('div');\n",
              "          docLink.innerHTML = docLinkHtml;\n",
              "          element.appendChild(docLink);\n",
              "        }\n",
              "      </script>\n",
              "    </div>\n",
              "  </div>\n",
              "  "
            ]
          },
          "metadata": {},
          "execution_count": 9
        }
      ]
    },
    {
      "cell_type": "code",
      "source": [
        "dfdistances=dfcombined\n",
        "distances=[]\n",
        "#Induvidual\n",
        "\n",
        "for i in range(len(Xcombined)):\n",
        "  distances.append(euclidean_distance(Xcombined.iloc[i],p.iloc[3]))\n",
        "dfdistances['distances']=distances\n",
        "\n",
        "dfdistances=dfdistances.sort_values(by=['distances'])\n",
        "\n",
        "dfdistances\n",
        "print(dfdistances['DNA sample ethnicity and id'].iloc[:3])"
      ],
      "metadata": {
        "colab": {
          "base_uri": "https://localhost:8080/"
        },
        "id": "rhyRFM1puKv0",
        "outputId": "c1360afe-64d2-4fb1-aca6-fb50fe52f0ae"
      },
      "execution_count": null,
      "outputs": [
        {
          "output_type": "stream",
          "name": "stdout",
          "text": [
            "738    Brahui:HGDP00009\n",
            "738    Brahui:HGDP00009\n",
            "746    Brahui:HGDP00033\n",
            "Name: DNA sample ethnicity and id, dtype: object\n"
          ]
        }
      ]
    },
    {
      "cell_type": "code",
      "source": [
        "pd.DataFrame(distance_matrix(Xcombined.iloc[0:10], p))"
      ],
      "metadata": {
        "colab": {
          "base_uri": "https://localhost:8080/",
          "height": 363
        },
        "id": "2Qd5dS0WuRe9",
        "outputId": "e99253ea-cec8-4c0e-b2b7-9d878ec6287c"
      },
      "execution_count": null,
      "outputs": [
        {
          "output_type": "execute_result",
          "data": {
            "text/plain": [
              "          0         1         2         3         4\n",
              "0  0.143607  0.150509  0.149934  0.139538  0.138920\n",
              "1  0.138088  0.146764  0.146978  0.135939  0.134800\n",
              "2  0.144207  0.150945  0.147189  0.138351  0.139827\n",
              "3  0.148862  0.156338  0.154066  0.143955  0.144138\n",
              "4  0.144649  0.152808  0.153302  0.142820  0.142512\n",
              "5  0.136675  0.144493  0.142897  0.133361  0.133219\n",
              "6  0.144844  0.152250  0.152268  0.142409  0.142214\n",
              "7  0.150872  0.157573  0.157037  0.145771  0.146412\n",
              "8  0.155056  0.165834  0.162308  0.152291  0.151913\n",
              "9  0.165338  0.174751  0.169691  0.160519  0.161384"
            ],
            "text/html": [
              "\n",
              "  <div id=\"df-01b17c6c-5035-452e-bd00-965fedb8e8e0\">\n",
              "    <div class=\"colab-df-container\">\n",
              "      <div>\n",
              "<style scoped>\n",
              "    .dataframe tbody tr th:only-of-type {\n",
              "        vertical-align: middle;\n",
              "    }\n",
              "\n",
              "    .dataframe tbody tr th {\n",
              "        vertical-align: top;\n",
              "    }\n",
              "\n",
              "    .dataframe thead th {\n",
              "        text-align: right;\n",
              "    }\n",
              "</style>\n",
              "<table border=\"1\" class=\"dataframe\">\n",
              "  <thead>\n",
              "    <tr style=\"text-align: right;\">\n",
              "      <th></th>\n",
              "      <th>0</th>\n",
              "      <th>1</th>\n",
              "      <th>2</th>\n",
              "      <th>3</th>\n",
              "      <th>4</th>\n",
              "    </tr>\n",
              "  </thead>\n",
              "  <tbody>\n",
              "    <tr>\n",
              "      <th>0</th>\n",
              "      <td>0.143607</td>\n",
              "      <td>0.150509</td>\n",
              "      <td>0.149934</td>\n",
              "      <td>0.139538</td>\n",
              "      <td>0.138920</td>\n",
              "    </tr>\n",
              "    <tr>\n",
              "      <th>1</th>\n",
              "      <td>0.138088</td>\n",
              "      <td>0.146764</td>\n",
              "      <td>0.146978</td>\n",
              "      <td>0.135939</td>\n",
              "      <td>0.134800</td>\n",
              "    </tr>\n",
              "    <tr>\n",
              "      <th>2</th>\n",
              "      <td>0.144207</td>\n",
              "      <td>0.150945</td>\n",
              "      <td>0.147189</td>\n",
              "      <td>0.138351</td>\n",
              "      <td>0.139827</td>\n",
              "    </tr>\n",
              "    <tr>\n",
              "      <th>3</th>\n",
              "      <td>0.148862</td>\n",
              "      <td>0.156338</td>\n",
              "      <td>0.154066</td>\n",
              "      <td>0.143955</td>\n",
              "      <td>0.144138</td>\n",
              "    </tr>\n",
              "    <tr>\n",
              "      <th>4</th>\n",
              "      <td>0.144649</td>\n",
              "      <td>0.152808</td>\n",
              "      <td>0.153302</td>\n",
              "      <td>0.142820</td>\n",
              "      <td>0.142512</td>\n",
              "    </tr>\n",
              "    <tr>\n",
              "      <th>5</th>\n",
              "      <td>0.136675</td>\n",
              "      <td>0.144493</td>\n",
              "      <td>0.142897</td>\n",
              "      <td>0.133361</td>\n",
              "      <td>0.133219</td>\n",
              "    </tr>\n",
              "    <tr>\n",
              "      <th>6</th>\n",
              "      <td>0.144844</td>\n",
              "      <td>0.152250</td>\n",
              "      <td>0.152268</td>\n",
              "      <td>0.142409</td>\n",
              "      <td>0.142214</td>\n",
              "    </tr>\n",
              "    <tr>\n",
              "      <th>7</th>\n",
              "      <td>0.150872</td>\n",
              "      <td>0.157573</td>\n",
              "      <td>0.157037</td>\n",
              "      <td>0.145771</td>\n",
              "      <td>0.146412</td>\n",
              "    </tr>\n",
              "    <tr>\n",
              "      <th>8</th>\n",
              "      <td>0.155056</td>\n",
              "      <td>0.165834</td>\n",
              "      <td>0.162308</td>\n",
              "      <td>0.152291</td>\n",
              "      <td>0.151913</td>\n",
              "    </tr>\n",
              "    <tr>\n",
              "      <th>9</th>\n",
              "      <td>0.165338</td>\n",
              "      <td>0.174751</td>\n",
              "      <td>0.169691</td>\n",
              "      <td>0.160519</td>\n",
              "      <td>0.161384</td>\n",
              "    </tr>\n",
              "  </tbody>\n",
              "</table>\n",
              "</div>\n",
              "      <button class=\"colab-df-convert\" onclick=\"convertToInteractive('df-01b17c6c-5035-452e-bd00-965fedb8e8e0')\"\n",
              "              title=\"Convert this dataframe to an interactive table.\"\n",
              "              style=\"display:none;\">\n",
              "        \n",
              "  <svg xmlns=\"http://www.w3.org/2000/svg\" height=\"24px\"viewBox=\"0 0 24 24\"\n",
              "       width=\"24px\">\n",
              "    <path d=\"M0 0h24v24H0V0z\" fill=\"none\"/>\n",
              "    <path d=\"M18.56 5.44l.94 2.06.94-2.06 2.06-.94-2.06-.94-.94-2.06-.94 2.06-2.06.94zm-11 1L8.5 8.5l.94-2.06 2.06-.94-2.06-.94L8.5 2.5l-.94 2.06-2.06.94zm10 10l.94 2.06.94-2.06 2.06-.94-2.06-.94-.94-2.06-.94 2.06-2.06.94z\"/><path d=\"M17.41 7.96l-1.37-1.37c-.4-.4-.92-.59-1.43-.59-.52 0-1.04.2-1.43.59L10.3 9.45l-7.72 7.72c-.78.78-.78 2.05 0 2.83L4 21.41c.39.39.9.59 1.41.59.51 0 1.02-.2 1.41-.59l7.78-7.78 2.81-2.81c.8-.78.8-2.07 0-2.86zM5.41 20L4 18.59l7.72-7.72 1.47 1.35L5.41 20z\"/>\n",
              "  </svg>\n",
              "      </button>\n",
              "      \n",
              "  <style>\n",
              "    .colab-df-container {\n",
              "      display:flex;\n",
              "      flex-wrap:wrap;\n",
              "      gap: 12px;\n",
              "    }\n",
              "\n",
              "    .colab-df-convert {\n",
              "      background-color: #E8F0FE;\n",
              "      border: none;\n",
              "      border-radius: 50%;\n",
              "      cursor: pointer;\n",
              "      display: none;\n",
              "      fill: #1967D2;\n",
              "      height: 32px;\n",
              "      padding: 0 0 0 0;\n",
              "      width: 32px;\n",
              "    }\n",
              "\n",
              "    .colab-df-convert:hover {\n",
              "      background-color: #E2EBFA;\n",
              "      box-shadow: 0px 1px 2px rgba(60, 64, 67, 0.3), 0px 1px 3px 1px rgba(60, 64, 67, 0.15);\n",
              "      fill: #174EA6;\n",
              "    }\n",
              "\n",
              "    [theme=dark] .colab-df-convert {\n",
              "      background-color: #3B4455;\n",
              "      fill: #D2E3FC;\n",
              "    }\n",
              "\n",
              "    [theme=dark] .colab-df-convert:hover {\n",
              "      background-color: #434B5C;\n",
              "      box-shadow: 0px 1px 3px 1px rgba(0, 0, 0, 0.15);\n",
              "      filter: drop-shadow(0px 1px 2px rgba(0, 0, 0, 0.3));\n",
              "      fill: #FFFFFF;\n",
              "    }\n",
              "  </style>\n",
              "\n",
              "      <script>\n",
              "        const buttonEl =\n",
              "          document.querySelector('#df-01b17c6c-5035-452e-bd00-965fedb8e8e0 button.colab-df-convert');\n",
              "        buttonEl.style.display =\n",
              "          google.colab.kernel.accessAllowed ? 'block' : 'none';\n",
              "\n",
              "        async function convertToInteractive(key) {\n",
              "          const element = document.querySelector('#df-01b17c6c-5035-452e-bd00-965fedb8e8e0');\n",
              "          const dataTable =\n",
              "            await google.colab.kernel.invokeFunction('convertToInteractive',\n",
              "                                                     [key], {});\n",
              "          if (!dataTable) return;\n",
              "\n",
              "          const docLinkHtml = 'Like what you see? Visit the ' +\n",
              "            '<a target=\"_blank\" href=https://colab.research.google.com/notebooks/data_table.ipynb>data table notebook</a>'\n",
              "            + ' to learn more about interactive tables.';\n",
              "          element.innerHTML = '';\n",
              "          dataTable['output_type'] = 'display_data';\n",
              "          await google.colab.output.renderOutput(dataTable, element);\n",
              "          const docLink = document.createElement('div');\n",
              "          docLink.innerHTML = docLinkHtml;\n",
              "          element.appendChild(docLink);\n",
              "        }\n",
              "      </script>\n",
              "    </div>\n",
              "  </div>\n",
              "  "
            ]
          },
          "metadata": {},
          "execution_count": 48
        }
      ]
    },
    {
      "cell_type": "code",
      "source": [
        ""
      ],
      "metadata": {
        "id": "7jDJCdlwuZcN"
      },
      "execution_count": null,
      "outputs": []
    },
    {
      "cell_type": "code",
      "source": [
        "\n",
        "# gaussian mixture clustering\n",
        "from numpy import unique\n",
        "from numpy import where\n",
        "from sklearn.datasets import make_classification\n",
        "from sklearn.mixture import GaussianMixture\n",
        "from matplotlib import pyplot\n",
        "# define dataset\n",
        "# define the model\n",
        "model1 = GaussianMixture(n_components=15)\n",
        "# fit the model\n",
        "model1.fit(Xcombined)\n",
        "# assign a cluster to each example\n",
        "yhat1 = model.predict(Xcombined)\n",
        "# retrieve unique clusters\n",
        "clusters1 = unique(yhat1)"
      ],
      "metadata": {
        "id": "BEE0gtCzvCM4"
      },
      "execution_count": null,
      "outputs": []
    },
    {
      "cell_type": "code",
      "source": [
        "\n",
        "# birch clustering\n",
        "from numpy import unique\n",
        "from numpy import where\n",
        "from sklearn.datasets import make_classification\n",
        "from sklearn.cluster import Birch\n",
        "from matplotlib import pyplot\n",
        "\n",
        "model2 = Birch(threshold=0.01, n_clusters=15)\n",
        "# fit model and predict clusters\n",
        "yhat2 = model2.fit_predict(Xcombined)\n",
        "# retrieve unique clusters\n",
        "clusters2 = unique(yhat2)"
      ],
      "metadata": {
        "id": "YauDTSA6NXqi"
      },
      "execution_count": null,
      "outputs": []
    },
    {
      "cell_type": "code",
      "source": [
        ""
      ],
      "metadata": {
        "colab": {
          "base_uri": "https://localhost:8080/"
        },
        "id": "U24BiVvIC1N0",
        "outputId": "743e8955-4d6c-4142-f61b-b1a0590196f5"
      },
      "execution_count": null,
      "outputs": [
        {
          "output_type": "execute_result",
          "data": {
            "text/plain": [
              "array([5, 5, 5, ..., 0, 0, 0])"
            ]
          },
          "metadata": {},
          "execution_count": 53
        }
      ]
    },
    {
      "cell_type": "code",
      "source": [
        "# k-means clustering\n",
        "from numpy import unique\n",
        "from numpy import where\n",
        "from sklearn.datasets import make_classification\n",
        "from sklearn.cluster import KMeans\n",
        "from matplotlib import pyplot\n",
        "\n",
        "model = KMeans(n_clusters=15)\n",
        "# fit the model\n",
        "model.fit(Xcombined)\n",
        "# assign a cluster to each example\n",
        "yhat3 = model.predict(Xcombined)\n",
        "# retrieve unique clusters\n",
        "clusters3 = unique(yhat3)"
      ],
      "metadata": {
        "id": "jb-0tYZ4NX0B"
      },
      "execution_count": null,
      "outputs": []
    },
    {
      "cell_type": "code",
      "source": [
        "c=pd.DataFrame(model.means_)\n",
        "c.to_csv('clustergmm15.csv')"
      ],
      "metadata": {
        "id": "RHQ168_Z1gZy"
      },
      "execution_count": null,
      "outputs": []
    },
    {
      "cell_type": "markdown",
      "source": [
        "Ancestry"
      ],
      "metadata": {
        "id": "3qjVcNU3ufps"
      }
    },
    {
      "cell_type": "code",
      "source": [
        "clusterdist1=[]\n",
        "for qw in range(15):\n",
        "  clusterdist1.append(euclidean_distance(c[qw],p.iloc[0]))\n",
        "tot1=sum(clusterdist1)\n",
        "\n",
        "clusterdist1=pd.DataFrame(clusterdist1)"
      ],
      "metadata": {
        "colab": {
          "base_uri": "https://localhost:8080/",
          "height": 432
        },
        "id": "-iqs6DNguhUd",
        "outputId": "b5f10243-c622-46d0-de34-17862970f102"
      },
      "execution_count": null,
      "outputs": [
        {
          "output_type": "error",
          "ename": "KeyError",
          "evalue": "ignored",
          "traceback": [
            "\u001b[0;31m---------------------------------------------------------------------------\u001b[0m",
            "\u001b[0;31mValueError\u001b[0m                                Traceback (most recent call last)",
            "\u001b[0;32m/usr/local/lib/python3.7/dist-packages/pandas/core/indexes/range.py\u001b[0m in \u001b[0;36mget_loc\u001b[0;34m(self, key, method, tolerance)\u001b[0m\n\u001b[1;32m    384\u001b[0m                 \u001b[0;32mtry\u001b[0m\u001b[0;34m:\u001b[0m\u001b[0;34m\u001b[0m\u001b[0;34m\u001b[0m\u001b[0m\n\u001b[0;32m--> 385\u001b[0;31m                     \u001b[0;32mreturn\u001b[0m \u001b[0mself\u001b[0m\u001b[0;34m.\u001b[0m\u001b[0m_range\u001b[0m\u001b[0;34m.\u001b[0m\u001b[0mindex\u001b[0m\u001b[0;34m(\u001b[0m\u001b[0mnew_key\u001b[0m\u001b[0;34m)\u001b[0m\u001b[0;34m\u001b[0m\u001b[0;34m\u001b[0m\u001b[0m\n\u001b[0m\u001b[1;32m    386\u001b[0m                 \u001b[0;32mexcept\u001b[0m \u001b[0mValueError\u001b[0m \u001b[0;32mas\u001b[0m \u001b[0merr\u001b[0m\u001b[0;34m:\u001b[0m\u001b[0;34m\u001b[0m\u001b[0;34m\u001b[0m\u001b[0m\n",
            "\u001b[0;31mValueError\u001b[0m: 15 is not in range",
            "\nThe above exception was the direct cause of the following exception:\n",
            "\u001b[0;31mKeyError\u001b[0m                                  Traceback (most recent call last)",
            "\u001b[0;32m<ipython-input-69-b25947e556a9>\u001b[0m in \u001b[0;36m<module>\u001b[0;34m()\u001b[0m\n\u001b[1;32m      1\u001b[0m \u001b[0mclusterdist1\u001b[0m\u001b[0;34m=\u001b[0m\u001b[0;34m[\u001b[0m\u001b[0;34m]\u001b[0m\u001b[0;34m\u001b[0m\u001b[0;34m\u001b[0m\u001b[0m\n\u001b[1;32m      2\u001b[0m \u001b[0;32mfor\u001b[0m \u001b[0mqw\u001b[0m \u001b[0;32min\u001b[0m \u001b[0mrange\u001b[0m\u001b[0;34m(\u001b[0m\u001b[0;36m15\u001b[0m\u001b[0;34m)\u001b[0m\u001b[0;34m:\u001b[0m\u001b[0;34m\u001b[0m\u001b[0;34m\u001b[0m\u001b[0m\n\u001b[0;32m----> 3\u001b[0;31m   \u001b[0mclusterdist1\u001b[0m\u001b[0;34m.\u001b[0m\u001b[0mappend\u001b[0m\u001b[0;34m(\u001b[0m\u001b[0meuclidean_distance\u001b[0m\u001b[0;34m(\u001b[0m\u001b[0mc\u001b[0m\u001b[0;34m[\u001b[0m\u001b[0mqw\u001b[0m\u001b[0;34m]\u001b[0m\u001b[0;34m,\u001b[0m\u001b[0mp\u001b[0m\u001b[0;34m.\u001b[0m\u001b[0miloc\u001b[0m\u001b[0;34m[\u001b[0m\u001b[0;36m0\u001b[0m\u001b[0;34m]\u001b[0m\u001b[0;34m)\u001b[0m\u001b[0;34m)\u001b[0m\u001b[0;34m\u001b[0m\u001b[0;34m\u001b[0m\u001b[0m\n\u001b[0m\u001b[1;32m      4\u001b[0m \u001b[0;34m\u001b[0m\u001b[0m\n\u001b[1;32m      5\u001b[0m \u001b[0mclusterdist1\u001b[0m\u001b[0;34m=\u001b[0m\u001b[0mpd\u001b[0m\u001b[0;34m.\u001b[0m\u001b[0mDataFrame\u001b[0m\u001b[0;34m(\u001b[0m\u001b[0mclusterdist1\u001b[0m\u001b[0;34m)\u001b[0m\u001b[0;34m\u001b[0m\u001b[0;34m\u001b[0m\u001b[0m\n",
            "\u001b[0;32m<ipython-input-42-805fb9d21609>\u001b[0m in \u001b[0;36meuclidean_distance\u001b[0;34m(p, q)\u001b[0m\n\u001b[1;32m      1\u001b[0m \u001b[0;32mdef\u001b[0m \u001b[0meuclidean_distance\u001b[0m\u001b[0;34m(\u001b[0m\u001b[0mp\u001b[0m\u001b[0;34m,\u001b[0m \u001b[0mq\u001b[0m\u001b[0;34m)\u001b[0m\u001b[0;34m:\u001b[0m\u001b[0;34m\u001b[0m\u001b[0;34m\u001b[0m\u001b[0m\n\u001b[1;32m      2\u001b[0m     \u001b[0mn\u001b[0m \u001b[0;34m=\u001b[0m \u001b[0;36m25\u001b[0m \u001b[0;31m# dimensions\u001b[0m\u001b[0;34m\u001b[0m\u001b[0;34m\u001b[0m\u001b[0m\n\u001b[0;32m----> 3\u001b[0;31m     \u001b[0;32mreturn\u001b[0m \u001b[0msum\u001b[0m\u001b[0;34m(\u001b[0m\u001b[0;34m[\u001b[0m\u001b[0;34m(\u001b[0m\u001b[0mp\u001b[0m\u001b[0;34m[\u001b[0m\u001b[0mi\u001b[0m\u001b[0;34m]\u001b[0m \u001b[0;34m-\u001b[0m \u001b[0mq\u001b[0m\u001b[0;34m[\u001b[0m\u001b[0mi\u001b[0m\u001b[0;34m]\u001b[0m\u001b[0;34m)\u001b[0m \u001b[0;34m**\u001b[0m \u001b[0;36m2\u001b[0m \u001b[0;32mfor\u001b[0m \u001b[0mi\u001b[0m \u001b[0;32min\u001b[0m \u001b[0mrange\u001b[0m\u001b[0;34m(\u001b[0m\u001b[0mn\u001b[0m\u001b[0;34m)\u001b[0m\u001b[0;34m]\u001b[0m\u001b[0;34m)\u001b[0m \u001b[0;34m**\u001b[0m \u001b[0;36m0.5\u001b[0m\u001b[0;34m\u001b[0m\u001b[0;34m\u001b[0m\u001b[0m\n\u001b[0m",
            "\u001b[0;32m<ipython-input-42-805fb9d21609>\u001b[0m in \u001b[0;36m<listcomp>\u001b[0;34m(.0)\u001b[0m\n\u001b[1;32m      1\u001b[0m \u001b[0;32mdef\u001b[0m \u001b[0meuclidean_distance\u001b[0m\u001b[0;34m(\u001b[0m\u001b[0mp\u001b[0m\u001b[0;34m,\u001b[0m \u001b[0mq\u001b[0m\u001b[0;34m)\u001b[0m\u001b[0;34m:\u001b[0m\u001b[0;34m\u001b[0m\u001b[0;34m\u001b[0m\u001b[0m\n\u001b[1;32m      2\u001b[0m     \u001b[0mn\u001b[0m \u001b[0;34m=\u001b[0m \u001b[0;36m25\u001b[0m \u001b[0;31m# dimensions\u001b[0m\u001b[0;34m\u001b[0m\u001b[0;34m\u001b[0m\u001b[0m\n\u001b[0;32m----> 3\u001b[0;31m     \u001b[0;32mreturn\u001b[0m \u001b[0msum\u001b[0m\u001b[0;34m(\u001b[0m\u001b[0;34m[\u001b[0m\u001b[0;34m(\u001b[0m\u001b[0mp\u001b[0m\u001b[0;34m[\u001b[0m\u001b[0mi\u001b[0m\u001b[0;34m]\u001b[0m \u001b[0;34m-\u001b[0m \u001b[0mq\u001b[0m\u001b[0;34m[\u001b[0m\u001b[0mi\u001b[0m\u001b[0;34m]\u001b[0m\u001b[0;34m)\u001b[0m \u001b[0;34m**\u001b[0m \u001b[0;36m2\u001b[0m \u001b[0;32mfor\u001b[0m \u001b[0mi\u001b[0m \u001b[0;32min\u001b[0m \u001b[0mrange\u001b[0m\u001b[0;34m(\u001b[0m\u001b[0mn\u001b[0m\u001b[0;34m)\u001b[0m\u001b[0;34m]\u001b[0m\u001b[0;34m)\u001b[0m \u001b[0;34m**\u001b[0m \u001b[0;36m0.5\u001b[0m\u001b[0;34m\u001b[0m\u001b[0;34m\u001b[0m\u001b[0m\n\u001b[0m",
            "\u001b[0;32m/usr/local/lib/python3.7/dist-packages/pandas/core/series.py\u001b[0m in \u001b[0;36m__getitem__\u001b[0;34m(self, key)\u001b[0m\n\u001b[1;32m    940\u001b[0m \u001b[0;34m\u001b[0m\u001b[0m\n\u001b[1;32m    941\u001b[0m         \u001b[0;32melif\u001b[0m \u001b[0mkey_is_scalar\u001b[0m\u001b[0;34m:\u001b[0m\u001b[0;34m\u001b[0m\u001b[0;34m\u001b[0m\u001b[0m\n\u001b[0;32m--> 942\u001b[0;31m             \u001b[0;32mreturn\u001b[0m \u001b[0mself\u001b[0m\u001b[0;34m.\u001b[0m\u001b[0m_get_value\u001b[0m\u001b[0;34m(\u001b[0m\u001b[0mkey\u001b[0m\u001b[0;34m)\u001b[0m\u001b[0;34m\u001b[0m\u001b[0;34m\u001b[0m\u001b[0m\n\u001b[0m\u001b[1;32m    943\u001b[0m \u001b[0;34m\u001b[0m\u001b[0m\n\u001b[1;32m    944\u001b[0m         \u001b[0;32mif\u001b[0m \u001b[0mis_hashable\u001b[0m\u001b[0;34m(\u001b[0m\u001b[0mkey\u001b[0m\u001b[0;34m)\u001b[0m\u001b[0;34m:\u001b[0m\u001b[0;34m\u001b[0m\u001b[0;34m\u001b[0m\u001b[0m\n",
            "\u001b[0;32m/usr/local/lib/python3.7/dist-packages/pandas/core/series.py\u001b[0m in \u001b[0;36m_get_value\u001b[0;34m(self, label, takeable)\u001b[0m\n\u001b[1;32m   1049\u001b[0m \u001b[0;34m\u001b[0m\u001b[0m\n\u001b[1;32m   1050\u001b[0m         \u001b[0;31m# Similar to Index.get_value, but we do not fall back to positional\u001b[0m\u001b[0;34m\u001b[0m\u001b[0;34m\u001b[0m\u001b[0;34m\u001b[0m\u001b[0m\n\u001b[0;32m-> 1051\u001b[0;31m         \u001b[0mloc\u001b[0m \u001b[0;34m=\u001b[0m \u001b[0mself\u001b[0m\u001b[0;34m.\u001b[0m\u001b[0mindex\u001b[0m\u001b[0;34m.\u001b[0m\u001b[0mget_loc\u001b[0m\u001b[0;34m(\u001b[0m\u001b[0mlabel\u001b[0m\u001b[0;34m)\u001b[0m\u001b[0;34m\u001b[0m\u001b[0;34m\u001b[0m\u001b[0m\n\u001b[0m\u001b[1;32m   1052\u001b[0m         \u001b[0;32mreturn\u001b[0m \u001b[0mself\u001b[0m\u001b[0;34m.\u001b[0m\u001b[0mindex\u001b[0m\u001b[0;34m.\u001b[0m\u001b[0m_get_values_for_loc\u001b[0m\u001b[0;34m(\u001b[0m\u001b[0mself\u001b[0m\u001b[0;34m,\u001b[0m \u001b[0mloc\u001b[0m\u001b[0;34m,\u001b[0m \u001b[0mlabel\u001b[0m\u001b[0;34m)\u001b[0m\u001b[0;34m\u001b[0m\u001b[0;34m\u001b[0m\u001b[0m\n\u001b[1;32m   1053\u001b[0m \u001b[0;34m\u001b[0m\u001b[0m\n",
            "\u001b[0;32m/usr/local/lib/python3.7/dist-packages/pandas/core/indexes/range.py\u001b[0m in \u001b[0;36mget_loc\u001b[0;34m(self, key, method, tolerance)\u001b[0m\n\u001b[1;32m    385\u001b[0m                     \u001b[0;32mreturn\u001b[0m \u001b[0mself\u001b[0m\u001b[0;34m.\u001b[0m\u001b[0m_range\u001b[0m\u001b[0;34m.\u001b[0m\u001b[0mindex\u001b[0m\u001b[0;34m(\u001b[0m\u001b[0mnew_key\u001b[0m\u001b[0;34m)\u001b[0m\u001b[0;34m\u001b[0m\u001b[0;34m\u001b[0m\u001b[0m\n\u001b[1;32m    386\u001b[0m                 \u001b[0;32mexcept\u001b[0m \u001b[0mValueError\u001b[0m \u001b[0;32mas\u001b[0m \u001b[0merr\u001b[0m\u001b[0;34m:\u001b[0m\u001b[0;34m\u001b[0m\u001b[0;34m\u001b[0m\u001b[0m\n\u001b[0;32m--> 387\u001b[0;31m                     \u001b[0;32mraise\u001b[0m \u001b[0mKeyError\u001b[0m\u001b[0;34m(\u001b[0m\u001b[0mkey\u001b[0m\u001b[0;34m)\u001b[0m \u001b[0;32mfrom\u001b[0m \u001b[0merr\u001b[0m\u001b[0;34m\u001b[0m\u001b[0;34m\u001b[0m\u001b[0m\n\u001b[0m\u001b[1;32m    388\u001b[0m             \u001b[0;32mraise\u001b[0m \u001b[0mKeyError\u001b[0m\u001b[0;34m(\u001b[0m\u001b[0mkey\u001b[0m\u001b[0;34m)\u001b[0m\u001b[0;34m\u001b[0m\u001b[0;34m\u001b[0m\u001b[0m\n\u001b[1;32m    389\u001b[0m         \u001b[0;32mreturn\u001b[0m \u001b[0msuper\u001b[0m\u001b[0;34m(\u001b[0m\u001b[0;34m)\u001b[0m\u001b[0;34m.\u001b[0m\u001b[0mget_loc\u001b[0m\u001b[0;34m(\u001b[0m\u001b[0mkey\u001b[0m\u001b[0;34m,\u001b[0m \u001b[0mmethod\u001b[0m\u001b[0;34m=\u001b[0m\u001b[0mmethod\u001b[0m\u001b[0;34m,\u001b[0m \u001b[0mtolerance\u001b[0m\u001b[0;34m=\u001b[0m\u001b[0mtolerance\u001b[0m\u001b[0;34m)\u001b[0m\u001b[0;34m\u001b[0m\u001b[0;34m\u001b[0m\u001b[0m\n",
            "\u001b[0;31mKeyError\u001b[0m: 15"
          ]
        }
      ]
    },
    {
      "cell_type": "code",
      "source": [
        "clusterdist1['distances']=clusterdist1['']/tot1"
      ],
      "metadata": {
        "id": "V7_ymxtg3M5W"
      },
      "execution_count": null,
      "outputs": []
    },
    {
      "cell_type": "code",
      "source": [
        "\n",
        "for qa in range(len(clusterdist1)):\n",
        "  clusterdist1['percentages']=1-(tot1-clusterdist1['distances'][qa])/tot1\n",
        "\n",
        "clusterdist1"
      ],
      "metadata": {
        "id": "faZkPbde3GRG"
      },
      "execution_count": null,
      "outputs": []
    },
    {
      "cell_type": "code",
      "source": [
        "import matplotlib.pyplot as plt\n",
        "\n",
        "labels = centers['component']\n",
        "explode = (0, 0.0, 0, 0.0)\n",
        "\n",
        "fig1, ax1 = plt.subplots()\n",
        "ax1.pie(clusterdist1['percentages'], explode=explode, autopct='%1.1f%%',\n",
        "        shadow=True, startangle=90)\n",
        "ax1.axis('equal')  \n",
        "plt.show()"
      ],
      "metadata": {
        "id": "hFCHdpfuzPDK"
      },
      "execution_count": null,
      "outputs": []
    },
    {
      "cell_type": "code",
      "source": [
        "import matplotlib.pyplot as plt\n",
        "\n",
        "labels = centers['component']\n",
        "explode = (0, 0.0, 0, 0.0)\n",
        "\n",
        "fig1, ax1 = plt.subplots()\n",
        "ax1.pie(clusterdist1['percentages'], explode=explode, labels=labels, autopct='%1.1f%%',\n",
        "        shadow=True, startangle=90)\n",
        "ax1.axis('equal')  \n",
        "plt.show()"
      ],
      "metadata": {
        "id": "5naOa_2h1Jpx"
      },
      "execution_count": null,
      "outputs": []
    },
    {
      "cell_type": "code",
      "source": [
        "1 2\n",
        "2/3 1/3\n",
        "\n",
        "1-1/3\n",
        "1-2/3\n",
        "\n",
        "1 2 1\n",
        "1/4 2/4 1/4\n",
        "1-(4-1)/4\n",
        "1-(4-2)/4\n",
        "1-(4-1)/4\n",
        "\n",
        "\n",
        "1-(tot1-clusterdist1['distances'][qa])/tot1"
      ],
      "metadata": {
        "id": "CryffcHXxg2X"
      },
      "execution_count": null,
      "outputs": []
    },
    {
      "cell_type": "code",
      "source": [
        "import matplotlib.pyplot as plt\n",
        "\n",
        "labels = 'Frogs', 'Hogs', 'Dogs', 'Logs'\n",
        "sizes = [15, 30, 45, 10]\n",
        "explode = (0, 0.0, 0, 0.1)\n",
        "\n",
        "fig1, ax1 = plt.subplots()\n",
        "ax1.pie(sizes, explode=explode, labels=labels, autopct='%1.1f%%',\n",
        "        shadow=True, startangle=90)\n",
        "ax1.axis('equal')  \n",
        "\n",
        "plt.show()"
      ],
      "metadata": {
        "id": "tH355J51uZha"
      },
      "execution_count": null,
      "outputs": []
    },
    {
      "cell_type": "markdown",
      "source": [
        "Hap plot"
      ],
      "metadata": {
        "id": "v5mM7qIPqIh5"
      }
    },
    {
      "cell_type": "code",
      "source": [
        "dfancienthpg=dfanncient.groupby(['Haplogroup']).mean()\n",
        "dfancienthpg\n",
        "#df.groupby(['Animal']).mean()"
      ],
      "metadata": {
        "id": "ATTW6zMX2Dtx"
      },
      "execution_count": null,
      "outputs": []
    },
    {
      "cell_type": "code",
      "source": [
        "haplogroupinput=input('')\n",
        "haplogroupinput"
      ],
      "metadata": {
        "colab": {
          "base_uri": "https://localhost:8080/",
          "height": 53
        },
        "id": "8mNZRdnEqHo3",
        "outputId": "b6c45cd9-2d6a-4716-e88e-b495ace07108"
      },
      "execution_count": null,
      "outputs": [
        {
          "name": "stdout",
          "output_type": "stream",
          "text": [
            "J2b\n"
          ]
        },
        {
          "output_type": "execute_result",
          "data": {
            "text/plain": [
              "'J2b'"
            ],
            "application/vnd.google.colaboratory.intrinsic+json": {
              "type": "string"
            }
          },
          "metadata": {},
          "execution_count": 38
        }
      ]
    },
    {
      "cell_type": "code",
      "source": [
        "for z1 in range(len()):\n",
        "  if "
      ],
      "metadata": {
        "id": "7ZG5VrBixmXI"
      },
      "execution_count": null,
      "outputs": []
    },
    {
      "cell_type": "code",
      "source": [
        "haplogroupinputpt="
      ],
      "metadata": {
        "id": "7vsnfOQU1-N6"
      },
      "execution_count": null,
      "outputs": []
    },
    {
      "cell_type": "code",
      "source": [
        "plt.scatter(dfancienthpg.iloc[:,0],dfancienthpg.iloc[:,1])\n",
        "plt.scatter(haplogroupinputpt.iloc[:,0],haplogroupinputpt.iloc[:,1])\n",
        "\n",
        "import matplotlib.pyplot as plt\n",
        "plt.figure(figsize=(90,40))\n",
        "\n",
        "plt.gcf().set_size_inches((90, 20))    \n",
        "\n",
        "fig, ax = plt.subplots()\n",
        "ax.scatter(X_subcontsne[:,0], X_subcontsne[:,1])\n",
        "\n",
        "for i in range(len(dfsubcon)):\n",
        "  ax.annotate(dfsubcon['DNA sample ethnicity and id'][i], (X_subcontsne[:,0][i], X_subcontsne[:,1][i]))"
      ],
      "metadata": {
        "id": "W3nfZz2YqvB7"
      },
      "execution_count": null,
      "outputs": []
    }
  ]
}